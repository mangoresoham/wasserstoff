{
 "cells": [
  {
   "cell_type": "code",
   "execution_count": 1,
   "metadata": {},
   "outputs": [
    {
     "name": "stderr",
     "output_type": "stream",
     "text": [
      "c:\\Users\\mango\\anaconda3\\envs\\myenv\\lib\\site-packages\\transformers\\utils\\generic.py:260: FutureWarning: `torch.utils._pytree._register_pytree_node` is deprecated. Please use `torch.utils._pytree.register_pytree_node` instead.\n",
      "  torch.utils._pytree._register_pytree_node(\n"
     ]
    }
   ],
   "source": [
    "import os\n",
    "import math\n",
    "import PyPDF2\n",
    "from transformers import T5ForConditionalGeneration, T5Tokenizer\n",
    "from concurrent.futures import ProcessPoolExecutor"
   ]
  },
  {
   "cell_type": "markdown",
   "metadata": {},
   "source": [
    "### File Ingestion"
   ]
  },
  {
   "cell_type": "code",
   "execution_count": 2,
   "metadata": {},
   "outputs": [
    {
     "name": "stdout",
     "output_type": "stream",
     "text": [
      "1950 \n",
      "Patntalal \n",
      "Jankid-:u \n",
      "v, \n",
      "Mohanlal and \n",
      "Another, \n",
      "Pata1tjali \n",
      "S11stri J. \n",
      "!950 \n",
      "Deo, 21. 1008 SUPREME COURT REPORTS [1950] \n",
      "of section 14, it seems to me, they would be bringing \n",
      "themselves under the bar of section 18 (2). The \n",
      "respondents cannot therefore claim that the loss of the \n",
      "goods was explosion damage within the meaning of the \n",
      "Ordinance so as to bring the case within section 14 and \n",
      "at the same time contend that the loss was not \"due \n",
      "to or did not in any way arise ont of the explosion\" in \n",
      "order to a void the bar under section 18. Both sec­\n",
      "tion 14 and section 18 have in view the physical cause \n",
      "for the loss or damage to property for which compen­\n",
      "sation is claimed and not the cause of action in rela­\n",
      "tion to the person against whom relief is sought. The \n",
      "respondents cannot, in my opinion, be allowed to take \n",
      "up inconsistent positions in order to bring themselves \n",
      "within the one and to get out of the other. \n",
      "I would therefore allow the appeal and dismiss the \n",
      "counter-c\n"
     ]
    }
   ],
   "source": [
    "import PyPDF2\n",
    "\n",
    "# Function to extract text from PDF using PyPDF2\n",
    "def extract_text_from_pdf(file_path):\n",
    "    text = ''\n",
    "    with open(file_path, 'rb') as file:\n",
    "        pdf_reader = PyPDF2.PdfReader(file)\n",
    "        for page_num in range(len(pdf_reader.pages)):\n",
    "            page = pdf_reader.pages[page_num]\n",
    "            text += page.extract_text()\n",
    "    return text\n",
    "\n",
    "# Example usage\n",
    "pdf_file_path = \"D:\\Programming\\Projects\\WASSERSTOFF\\Data\\pdf1.pdf\"  # Replace with your PDF file path\n",
    "document_text = extract_text_from_pdf(pdf_file_path)\n",
    "\n",
    "# Check the extracted text\n",
    "print(document_text[:1000])  # Print first 1000 characters\n"
   ]
  },
  {
   "cell_type": "code",
   "execution_count": 3,
   "metadata": {},
   "outputs": [],
   "source": [
    "# document_text=\"\"\"\n",
    "# In a world increasingly defined by technology, the relationship between humans and machines has become a focal point of discussion across various domains. The advent of artificial intelligence (AI) has reshaped industries, impacting everything from healthcare to finance, education to entertainment. With the integration of AI in daily life, there emerges a profound question: what does it mean to be human in an age where machines can replicate cognitive functions? This question is particularly relevant in the realm of healthcare, where AI systems are not only assisting doctors in diagnosing diseases but also in predicting patient outcomes based on vast datasets. As a result, the medical community is witnessing a shift in how care is delivered; physicians are now seen as guides who interpret AI-generated insights rather than sole decision-makers. This paradigm shift has its proponents and critics. Advocates argue that AI enhances human capabilities, allowing for more accurate diagnoses and personalized treatment plans. They cite examples of AI systems that analyze medical images with a precision that rivals expert radiologists, thus improving early detection rates of conditions like cancer. On the other hand, critics voice concerns regarding the ethical implications of relying too heavily on machines, fearing that this could undermine the human touch that is integral to patient care. They point out the risk of data bias, as AI systems trained on historical data may perpetuate existing inequalities in healthcare delivery. Moreover, there are apprehensions about patient privacy, as the use of sensitive health data raises questions about who owns this information and how it is used. As healthcare continues to evolve in this direction, the dialogue surrounding the intersection of technology and human experience becomes even more critical. Moving beyond healthcare, the influence of AI permeates other sectors such as finance, where algorithms determine credit scores and assess loan applications. The automation of these processes promises efficiency and speed, yet it also poses significant challenges. For instance, the opaque nature of algorithmic decision-making can lead to a lack of accountability, making it difficult for individuals to understand why they were denied a loan or insurance coverage. In response, policymakers are grappling with the need to regulate AI to ensure fairness and transparency. The challenge lies in striking a balance between innovation and safeguarding the rights of individuals, a debate that reflects broader societal concerns about the pace of technological advancement. In the realm of education, AI offers tools for personalized learning experiences, adapting curricula to meet the unique needs of each student. This potential for customization is promising, particularly for learners who may struggle in traditional educational settings. However, the reliance on technology raises questions about equity, as not all students have equal access to the necessary tools and resources. The digital divide becomes apparent, highlighting disparities that exist within and between communities. As educators explore the integration of AI in classrooms, they must also consider how to ensure that all students benefit from these innovations. In the creative industries, AI is reshaping the landscape of art, music, and literature. Tools powered by AI are now capable of generating original works, blurring the lines between human creativity and machine-generated content. This evolution prompts discussions about authorship and originality. If a machine creates a piece of art, who is the true artist? Furthermore, the rise of deepfakes and AI-generated media has raised ethical concerns about misinformation and the manipulation of public perception. As technology continues to advance, society faces the dual challenge of embracing innovation while mitigating its risks. The overarching theme across these sectors is the need for a thoughtful approach to AI integration, one that considers the ethical, social, and economic implications of these powerful technologies. The dialogue surrounding AI is not merely academic; it has real-world consequences that affect individuals, communities, and global dynamics. As we stand on the precipice of a future increasingly influenced by artificial intelligence, it is crucial that we engage in ongoing discussions about what it means to live in harmony with machines. The future of work, society, and human interaction hinges on our ability to navigate these complexities with care, foresight, and a commitment to preserving the values that define our humanity. Ultimately, the integration of AI into everyday life challenges us to redefine our roles as individuals and as a society, prompting us to ask profound questions about identity, ethics, and the nature of progress. In this ever-evolving landscape, we must prioritize education, policy development, and ethical considerations to ensure that technology serves as a tool for enhancing human potential rather than a force that diminishes it.\n",
    "# \"\"\"\n",
    "\n",
    "# reference_summary = \"\"\"\n",
    "# The relationship between humans and machines is increasingly defined by the rise of artificial intelligence (AI), impacting various sectors, including healthcare, finance, education, and the creative industries. In healthcare, AI assists in diagnosing diseases and predicting outcomes, prompting discussions about the balance between technology and the human touch in patient care. While proponents argue that AI enhances capabilities, critics raise concerns about data bias, patient privacy, and the potential loss of human empathy. In finance, AI streamlines processes but introduces challenges related to transparency and accountability. The education sector benefits from personalized learning tools, though disparities in access highlight existing inequalities. In creative fields, AI-generated content raises questions about authorship and originality, particularly concerning misinformation. The overarching theme is the necessity for a thoughtful approach to AI integration, balancing innovation with ethical and social implications. As society navigates these complexities, ongoing dialogue is essential to ensure technology enhances human potential while preserving core values.\n",
    "# \"\"\""
   ]
  },
  {
   "cell_type": "markdown",
   "metadata": {},
   "source": [
    "### Splitting into chunks"
   ]
  },
  {
   "cell_type": "code",
   "execution_count": 4,
   "metadata": {},
   "outputs": [
    {
     "name": "stdout",
     "output_type": "stream",
     "text": [
      "Number of character-based chunks: 25\n"
     ]
    }
   ],
   "source": [
    "def split_text_by_characters(text, chunk_size_chars=1000):\n",
    "    \"\"\"\n",
    "    Splits text into smaller chunks based on a character limit.\n",
    "    :param text: The entire document text\n",
    "    :param chunk_size_chars: The number of characters per chunk\n",
    "    :return: List of text chunks\n",
    "    \"\"\"\n",
    "    chunks = [text[i:i + chunk_size_chars] for i in range(0, len(text), chunk_size_chars)]\n",
    "    return chunks\n",
    "\n",
    "# Split the document into smaller character-based chunks\n",
    "char_chunks = split_text_by_characters(document_text, chunk_size_chars=1000)\n",
    "\n",
    "print(f\"Number of character-based chunks: {len(char_chunks)}\")\n"
   ]
  },
  {
   "cell_type": "markdown",
   "metadata": {},
   "source": [
    "### Token Validation"
   ]
  },
  {
   "cell_type": "code",
   "execution_count": 5,
   "metadata": {},
   "outputs": [
    {
     "name": "stderr",
     "output_type": "stream",
     "text": [
      "c:\\Users\\mango\\anaconda3\\envs\\myenv\\lib\\site-packages\\huggingface_hub\\file_download.py:1150: FutureWarning: `resume_download` is deprecated and will be removed in version 1.0.0. Downloads always resume when possible. If you want to force a new download, use `force_download=True`.\n",
      "  warnings.warn(\n",
      "You are using the default legacy behaviour of the <class 'transformers.models.t5.tokenization_t5.T5Tokenizer'>. If you see this, DO NOT PANIC! This is expected, and simply means that the `legacy` (previous) behavior will be used so nothing changes for you. If you want to use the new behaviour, set `legacy=True`. This should only be set if you understand what it means, and thouroughly read the reason why this was added as explained in https://github.com/huggingface/transformers/pull/24565\n"
     ]
    },
    {
     "name": "stdout",
     "output_type": "stream",
     "text": [
      "Number of validated token-safe chunks: 25\n"
     ]
    }
   ],
   "source": [
    "from transformers import T5Tokenizer\n",
    "\n",
    "# Load the T5-small tokenizer\n",
    "tokenizer = T5Tokenizer.from_pretrained(\"t5-small\")\n",
    "\n",
    "def ensure_safe_token_length(chunks, tokenizer, max_chunk_length=512):\n",
    "    validated_chunks = []\n",
    "    \n",
    "    for chunk in chunks:\n",
    "        tokens = tokenizer.encode(chunk)\n",
    "        if len(tokens) > max_chunk_length:\n",
    "            # If a chunk exceeds the token limit, split it further\n",
    "            token_chunks = [tokens[i:i + max_chunk_length] for i in range(0, len(tokens), max_chunk_length)]\n",
    "            # Convert token chunks back to text and append to validated_chunks\n",
    "            for token_chunk in token_chunks:\n",
    "                validated_chunks.append(tokenizer.decode(token_chunk, skip_special_tokens=True))\n",
    "        else:\n",
    "            validated_chunks.append(chunk)\n",
    "    \n",
    "    return validated_chunks\n",
    "\n",
    "# Ensure all chunks fit within the token length constraint\n",
    "validated_text_chunks = ensure_safe_token_length(char_chunks, tokenizer, max_chunk_length=512)\n",
    "\n",
    "print(f\"Number of validated token-safe chunks: {len(validated_text_chunks)}\")\n"
   ]
  },
  {
   "cell_type": "markdown",
   "metadata": {},
   "source": [
    "### Summerization"
   ]
  },
  {
   "cell_type": "code",
   "execution_count": 6,
   "metadata": {},
   "outputs": [
    {
     "name": "stdout",
     "output_type": "stream",
     "text": [
      "Summary for Chunk 1:\n",
      "the respondents cannot therefore claim that the loss of the goods was explosion damage within the meaning of the Ordinance. they cannot therefore claim that the loss was not \"due to or did not in any way arise ont of the explosion\" in order to a void the bar under section 18.\n",
      "\n",
      "Summary for Chunk 2:\n",
      "appeal dismissed by the high court in the matter of income­ tax references. the decision of the Appellate Tribunal on facts is final unless it can be successfully assailed on the ground.\n",
      "\n",
      "Summary for Chunk 3:\n",
      "it is not p1oper to depart fron1 this rule of law Incnme-tax. it will convert the High Court into a fact finding authority, Wcst Bengal which it is not.\n",
      "\n",
      "Summary for Chunk 4:\n",
      "the assessees agreed to reimburse the mills by permitting the latter to deduct a moiety of the commission pa.yable to them under the agreement of managing agency. the assessees claimed that the amounts so deducted should bo excluded from their asRessable income as business cxpenditme under s. 10 (2) (xv) of tbe Income­ tax Act.\n",
      "\n",
      "Summary for Chunk 5:\n",
      "the high court accepted this argument and reversed the decision of the Tribunal. the high court acted wrongly in accepting the argurr1ents of the assessees' counsel as if they were proved facts and basing its decision on them.\n",
      "\n",
      "Summary for Chunk 6:\n",
      "civil appeal no. 59 of onimissioner o 1\"come-tax, 1950. west Bengal appeal from a Judgment of the High Court of Judi- v. cature at Calcutta (Harries C.J. and Chatterjea J.)\n",
      "\n",
      "Summary for Chunk 7:\n",
      "the respondents are a private limited company which was brought into existence to float various companies including cotton mills. their remuneration was fixed at a monthly allowance of Rs. 500 and a commission of 3 per cent. the fixed monthly allowance was liable to be increased in the event of the capital being increased.\n",
      "\n",
      "Summary for Chunk 8:\n",
      "the res-1950 pondent company entered into an agreement with the w. t Bengal Mill Company, the material part of the terms of which. pondent company entered into an agreement with the w.. t Bengal Mill Company.\n",
      "\n",
      "Summary for Chunk 9:\n",
      "suit nos. 1683, 1720, 1735 and 1757 of 1939 for the said aggregate sum of Rs. 1,80,000 and the interest thereon. the said Mills have been advised to settle the said suits amicably. the said Mills have undertaken to reimburse the said Mills in respect of the decrees to oe made in the said four suits.\n",
      "\n",
      "Summary for Chunk 10:\n",
      "the said moiety shall be one half of the commission so payable less such sum as the Directors of the Mills may from time to time allow to be deducted. the respondent company paid to the Mill Company Rs. 22,500 made up of • 1012 SUPREME COURT REPORTS [1950] t9oO Rs. 18,107 as principal and Rs. 4,393 as interest in the 0 -:--:-1accounting year. the assessee company claimed this o\n",
      "\n",
      "Summary for Chunk 11:\n",
      "the arguments urged on behalf of the assessee company have been recapitulated. the first argument was that under the first proviso to section 7 of the Indian Income-tax Act, this payment was liable to be exempted. the high court also rejected the same and it was not presented before us.\n",
      "\n",
      "Summary for Chunk 12:\n",
      "the applicant company agreed to pay off the decretal amount from the remuneration which they are entitled K.,nia o. J. to get from the Basanti Cotton Mills. if the applicant company did not agree to pay this amount, they could have brought a suit against the company.\n",
      "\n",
      "Summary for Chunk 13:\n",
      "the decree was passed against the applicant company evidently for certain misfeasance committed by its directors. the books of account of Basanti Cotton Mills Ltd. would show that they were paying the applicant company in full its remuneration and the books of the applicant company also show that it was entitled to its remuneration in full.\n",
      "\n",
      "Summary for Chunk 14:\n",
      "a statement of the case prepared by the Income­ tax Tribunal was perused by the parties and they had no suggestions to make. the state­ment of the case was thus settled with the knowledge and approval of the parties.\n",
      "\n",
      "Summary for Chunk 15:\n",
      "the high court noticed several cases including 111 itchell' s case. the payment in question did not bring in any new assets into existence nor can it properly be said that it brought into existence an advantage for the enduring benefit of the company's tv.\n",
      "\n",
      "Summary for Chunk 16:\n",
      "the Appellate Tribunal observed that the decree was evidently passed against the appellant company for certain misfeasance by its directors. the appellant company agreed to pay it off from its remuneration. the high court differed from the conclusion of the Tribunal and allowed the deduction to the respondent company under section 10(2) (xv) of the Income-tax Act.\n",
      "\n",
      "Summary for Chunk 17:\n",
      "the jurisdiction of the High Court v. in the matter of income-tax references is an advisory Calcutta Agency jurisdiction. the decision of the Ltd. Tribunal on facts is final, unless it can be successfully Ka1ita C. J.\n",
      "\n",
      "Summary for Chunk 18:\n",
      "the me-tax Act is prepared with the knowledge of the parties concerned. they have a full opportunity to apply for any addition or deletion from that statement of case. the parties perused the statement of case and as disclosed by the note at the end of it had no sug- gestions to make in respect thereof.\n",
      "\n",
      "Summary for Chunk 19:\n",
      "the whole con- clusion of the High Court is based on this unwarranted assumption of facts which are taken only from the argument of counsel for the present respondents. the danger of failing to recognise that the jurisdiction of the High Court in these matters is on y a v1sory an t ie cone uswns o t ie n una.\n",
      "\n",
      "Summary for Chunk 20:\n",
      "the process was reversed and the procedure adopted was to take Mit­ chell's case as the law. the High Court fell into a grave error in omitting first to ascer­ tain what were the facts found in the case stated by the Tribunal. the whole discussion started with a quotation from the case stated by the Commissioners as the facts of the case.\n",
      "\n",
      "Summary for Chunk 21:\n",
      "the matter went to the assistant income-tax commissioner. it was argued that the Income-tax Officer was in error in not allowing the deduction of interest and was also wrong in not allowing the entire sum of Rs. 22,500 as a deduction on the ground that, that portion of the income should be treated as not earned or deemed to be earned.\n",
      "\n",
      "Summary for Chunk 22:\n",
      "there is no doubt that money was borrowed but lmless it can Kania c. J. to prove that the borrowing is for the purpose of the business and the loan was u:sed in the business, the interest cannot be allowed under section 10(2)(iii)\"\n",
      "\n",
      "Summary for Chunk 23:\n",
      "mpany was placed for this contention on Raja Bijoy Singh Dudhuria's case. he thought of urging as an argument that this was a per­ missible deduction under section 10 (2) (xv) because of the principles laid down in Mitchell's case(2). no evidence, it appears, was led before the Income Tax Tribunal.\n",
      "\n",
      "Summary for Chunk 24:\n",
      "the high OomI missioner of court was carried away by the argument of ncometax, west Bengal the counsel accepted the argument v. as facts. if it noticed the contention Calcutta Agenoy urged before the Income-tax Officer it would have seen Ltd, at once that the argument was in a measure conflicting with that contention.\n",
      "\n",
      "Summary for Chunk 25:\n",
      "the appeal is therefore allowed with costs here and before the High Court. the appeal is therefore allowed with costs here and before the High Court. the appeal is therefore allowed with costs here and before the High Court.\n",
      "\n"
     ]
    }
   ],
   "source": [
    "from transformers import T5ForConditionalGeneration, T5Tokenizer\n",
    "\n",
    "# Load the T5-small model for summarization\n",
    "model = T5ForConditionalGeneration.from_pretrained(\"t5-small\")\n",
    "tokenizer = T5Tokenizer.from_pretrained(\"t5-small\")\n",
    "\n",
    "def summarize_chunk(chunk):\n",
    "    \"\"\"\n",
    "    Summarizes a single chunk of text.\n",
    "    :param chunk: A chunk of text to summarize\n",
    "    :return: The summary of the chunk\n",
    "    \"\"\"\n",
    "    inputs = tokenizer.encode(\"summarize: \" + chunk, return_tensors=\"pt\", max_length=512, truncation=True)\n",
    "    summary_ids = model.generate(inputs, max_length=150, min_length=40, length_penalty=2.0, num_beams=4, early_stopping=True)\n",
    "    summary = tokenizer.decode(summary_ids[0], skip_special_tokens=True)\n",
    "    return summary\n",
    "\n",
    "# Summarize each validated chunk\n",
    "summarized_chunks = [summarize_chunk(chunk) for chunk in validated_text_chunks]\n",
    "\n",
    "# Print summarized chunks (optional)\n",
    "for idx, summary in enumerate(summarized_chunks):\n",
    "    print(f\"Summary for Chunk {idx + 1}:\\n{summary}\\n\")\n"
   ]
  },
  {
   "cell_type": "code",
   "execution_count": 7,
   "metadata": {},
   "outputs": [
    {
     "name": "stdout",
     "output_type": "stream",
     "text": [
      "the respondents cannot therefore claim that the loss of the goods was explosion damage within the meaning of the Ordinance. they cannot therefore claim that the loss was not \"due to or did not in any way arise ont of the explosion\" in order to a void the bar under section 18. appeal dismissed by the high court in the matter of income­ tax references. the decision of the Appellate Tribunal on facts is final unless it can be successfully assailed on the ground. it is not p1oper to depart fron1 this rule of law Incnme-tax. it will convert the High Court into a fact finding authority, Wcst Bengal which it is not. the assessees agreed to reimburse the mills by permitting the latter to deduct a moiety of the commission pa.yable to them under the agreement of managing agency. the assessees claimed that the amounts so deducted should bo excluded from their asRessable income as business cxpenditme under s. 10 (2) (xv) of tbe Income­ tax Act. the high court accepted this argument and reversed the decision of the Tribunal. the high court acted wrongly in accepting the argurr1ents of the assessees' counsel as if they were proved facts and basing its decision on them. civil appeal no. 59 of onimissioner o 1\"come-tax, 1950. west Bengal appeal from a Judgment of the High Court of Judi- v. cature at Calcutta (Harries C.J. and Chatterjea J.) the respondents are a private limited company which was brought into existence to float various companies including cotton mills. their remuneration was fixed at a monthly allowance of Rs. 500 and a commission of 3 per cent. the fixed monthly allowance was liable to be increased in the event of the capital being increased. the res-1950 pondent company entered into an agreement with the w. t Bengal Mill Company, the material part of the terms of which. pondent company entered into an agreement with the w.. t Bengal Mill Company. suit nos. 1683, 1720, 1735 and 1757 of 1939 for the said aggregate sum of Rs. 1,80,000 and the interest thereon. the said Mills have been advised to settle the said suits amicably. the said Mills have undertaken to reimburse the said Mills in respect of the decrees to oe made in the said four suits. the said moiety shall be one half of the commission so payable less such sum as the Directors of the Mills may from time to time allow to be deducted. the respondent company paid to the Mill Company Rs. 22,500 made up of • 1012 SUPREME COURT REPORTS [1950] t9oO Rs. 18,107 as principal and Rs. 4,393 as interest in the 0 -:--:-1accounting year. the assessee company claimed this o the arguments urged on behalf of the assessee company have been recapitulated. the first argument was that under the first proviso to section 7 of the Indian Income-tax Act, this payment was liable to be exempted. the high court also rejected the same and it was not presented before us. the applicant company agreed to pay off the decretal amount from the remuneration which they are entitled K.,nia o. J. to get from the Basanti Cotton Mills. if the applicant company did not agree to pay this amount, they could have brought a suit against the company. the decree was passed against the applicant company evidently for certain misfeasance committed by its directors. the books of account of Basanti Cotton Mills Ltd. would show that they were paying the applicant company in full its remuneration and the books of the applicant company also show that it was entitled to its remuneration in full. a statement of the case prepared by the Income­ tax Tribunal was perused by the parties and they had no suggestions to make. the state­ment of the case was thus settled with the knowledge and approval of the parties. the high court noticed several cases including 111 itchell' s case. the payment in question did not bring in any new assets into existence nor can it properly be said that it brought into existence an advantage for the enduring benefit of the company's tv. the Appellate Tribunal observed that the decree was evidently passed against the appellant company for certain misfeasance by its directors. the appellant company agreed to pay it off from its remuneration. the high court differed from the conclusion of the Tribunal and allowed the deduction to the respondent company under section 10(2) (xv) of the Income-tax Act. the jurisdiction of the High Court v. in the matter of income-tax references is an advisory Calcutta Agency jurisdiction. the decision of the Ltd. Tribunal on facts is final, unless it can be successfully Ka1ita C. J. the me-tax Act is prepared with the knowledge of the parties concerned. they have a full opportunity to apply for any addition or deletion from that statement of case. the parties perused the statement of case and as disclosed by the note at the end of it had no sug- gestions to make in respect thereof. the whole con- clusion of the High Court is based on this unwarranted assumption of facts which are taken only from the argument of counsel for the present respondents. the danger of failing to recognise that the jurisdiction of the High Court in these matters is on y a v1sory an t ie cone uswns o t ie n una. the process was reversed and the procedure adopted was to take Mit­ chell's case as the law. the High Court fell into a grave error in omitting first to ascer­ tain what were the facts found in the case stated by the Tribunal. the whole discussion started with a quotation from the case stated by the Commissioners as the facts of the case. the matter went to the assistant income-tax commissioner. it was argued that the Income-tax Officer was in error in not allowing the deduction of interest and was also wrong in not allowing the entire sum of Rs. 22,500 as a deduction on the ground that, that portion of the income should be treated as not earned or deemed to be earned. there is no doubt that money was borrowed but lmless it can Kania c. J. to prove that the borrowing is for the purpose of the business and the loan was u:sed in the business, the interest cannot be allowed under section 10(2)(iii)\" mpany was placed for this contention on Raja Bijoy Singh Dudhuria's case. he thought of urging as an argument that this was a per­ missible deduction under section 10 (2) (xv) because of the principles laid down in Mitchell's case(2). no evidence, it appears, was led before the Income Tax Tribunal. the high OomI missioner of court was carried away by the argument of ncometax, west Bengal the counsel accepted the argument v. as facts. if it noticed the contention Calcutta Agenoy urged before the Income-tax Officer it would have seen Ltd, at once that the argument was in a measure conflicting with that contention. the appeal is therefore allowed with costs here and before the High Court. the appeal is therefore allowed with costs here and before the High Court. the appeal is therefore allowed with costs here and before the High Court.\n"
     ]
    }
   ],
   "source": [
    "# Concatenate all the summarized chunks to form the final summary\n",
    "final_summary = \" \".join(summarized_chunks)\n",
    "\n",
    "# Print the final summary\n",
    "\n",
    "print(final_summary)\n"
   ]
  },
  {
   "cell_type": "code",
   "execution_count": 9,
   "metadata": {},
   "outputs": [
    {
     "data": {
      "text/plain": [
       "6891"
      ]
     },
     "execution_count": 9,
     "metadata": {},
     "output_type": "execute_result"
    }
   ],
   "source": [
    "len(final_summary)"
   ]
  },
  {
   "cell_type": "markdown",
   "metadata": {},
   "source": [
    "### Metrics"
   ]
  },
  {
   "cell_type": "code",
   "execution_count": 8,
   "metadata": {},
   "outputs": [
    {
     "ename": "NameError",
     "evalue": "name 'reference_summary' is not defined",
     "output_type": "error",
     "traceback": [
      "\u001b[1;31m---------------------------------------------------------------------------\u001b[0m",
      "\u001b[1;31mNameError\u001b[0m                                 Traceback (most recent call last)",
      "Cell \u001b[1;32mIn[8], line 5\u001b[0m\n\u001b[0;32m      3\u001b[0m \u001b[38;5;66;03m# Example summaries\u001b[39;00m\n\u001b[0;32m      4\u001b[0m generated_summary \u001b[38;5;241m=\u001b[39m final_summary\n\u001b[1;32m----> 5\u001b[0m reference_summary \u001b[38;5;241m=\u001b[39m \u001b[43mreference_summary\u001b[49m\n\u001b[0;32m      6\u001b[0m scorer \u001b[38;5;241m=\u001b[39m rouge_scorer\u001b[38;5;241m.\u001b[39mRougeScorer([\u001b[38;5;124m'\u001b[39m\u001b[38;5;124mrouge1\u001b[39m\u001b[38;5;124m'\u001b[39m, \u001b[38;5;124m'\u001b[39m\u001b[38;5;124mrouge2\u001b[39m\u001b[38;5;124m'\u001b[39m, \u001b[38;5;124m'\u001b[39m\u001b[38;5;124mrougeL\u001b[39m\u001b[38;5;124m'\u001b[39m], use_stemmer\u001b[38;5;241m=\u001b[39m\u001b[38;5;28;01mTrue\u001b[39;00m)\n\u001b[0;32m      7\u001b[0m scores \u001b[38;5;241m=\u001b[39m scorer\u001b[38;5;241m.\u001b[39mscore(reference_summary, generated_summary)\n",
      "\u001b[1;31mNameError\u001b[0m: name 'reference_summary' is not defined"
     ]
    }
   ],
   "source": [
    "\n",
    "from rouge_score import rouge_scorer\n",
    "\n",
    "# Example summaries\n",
    "generated_summary = final_summary\n",
    "reference_summary = reference_summary\n",
    "scorer = rouge_scorer.RougeScorer(['rouge1', 'rouge2', 'rougeL'], use_stemmer=True)\n",
    "scores = scorer.score(reference_summary, generated_summary)\n",
    "\n",
    "print(scores)\n"
   ]
  },
  {
   "cell_type": "code",
   "execution_count": 10,
   "metadata": {},
   "outputs": [
    {
     "name": "stdout",
     "output_type": "stream",
     "text": [
      "rouge1:\n",
      "  Precision: 0.3878\n",
      "  Recall: 0.6129\n",
      "  F-measure: 0.4750\n",
      "\n",
      "rouge2:\n",
      "  Precision: 0.0984\n",
      "  Recall: 0.1558\n",
      "  F-measure: 0.1206\n",
      "\n",
      "rougeL:\n",
      "  Precision: 0.1837\n",
      "  Recall: 0.2903\n",
      "  F-measure: 0.2250\n",
      "\n"
     ]
    }
   ],
   "source": [
    "# Loop through each ROUGE score and print its values\n",
    "for key, score in scores.items():\n",
    "    print(f\"{key}:\")\n",
    "    print(f\"  Precision: {score.precision:.4f}\")\n",
    "    print(f\"  Recall: {score.recall:.4f}\")\n",
    "    print(f\"  F-measure: {score.fmeasure:.4f}\\n\")\n"
   ]
  },
  {
   "cell_type": "code",
   "execution_count": 12,
   "metadata": {},
   "outputs": [
    {
     "name": "stdout",
     "output_type": "stream",
     "text": [
      "BLEU score with smoothing: 0.0564\n",
      "BLEU score (unigrams with smoothing): 0.3619\n",
      "BLEU score (bigrams with smoothing): 0.0936\n",
      "BLEU score (trigrams with smoothing): 0.0263\n",
      "BLEU score (4-grams with smoothing): 0.0113\n"
     ]
    }
   ],
   "source": [
    "import nltk\n",
    "from nltk.translate.bleu_score import sentence_bleu, SmoothingFunction\n",
    "\n",
    "# Sample reference text\n",
    "reference_text = reference_summary\n",
    "\n",
    "# Sample generated text from your model\n",
    "generated_text = final_summary\n",
    "\n",
    "# Tokenize the reference and generated texts\n",
    "reference = [nltk.word_tokenize(reference_text.lower())]  # List of reference sentences\n",
    "generated = nltk.word_tokenize(generated_text.lower())\n",
    "\n",
    "# Use a smoothing function\n",
    "smoothie = SmoothingFunction()\n",
    "\n",
    "# Calculate BLEU score with smoothing for all n-gram orders\n",
    "bleu_score = sentence_bleu(reference, generated, smoothing_function=smoothie.method1)\n",
    "print(f\"BLEU score with smoothing: {bleu_score:.4f}\")\n",
    "\n",
    "# Calculate BLEU score for unigrams, bigrams, trigrams, and 4-grams with smoothing\n",
    "bleu_score_unigrams = sentence_bleu(reference, generated, weights=(1, 0, 0, 0), smoothing_function=smoothie.method1)\n",
    "bleu_score_bigrams = sentence_bleu(reference, generated, weights=(0, 1, 0, 0), smoothing_function=smoothie.method1)\n",
    "bleu_score_trigrams = sentence_bleu(reference, generated, weights=(0, 0, 1, 0), smoothing_function=smoothie.method1)\n",
    "bleu_score_4grams = sentence_bleu(reference, generated, weights=(0, 0, 0, 1), smoothing_function=smoothie.method1)\n",
    "\n",
    "print(f\"BLEU score (unigrams with smoothing): {bleu_score_unigrams:.4f}\")\n",
    "print(f\"BLEU score (bigrams with smoothing): {bleu_score_bigrams:.4f}\")\n",
    "print(f\"BLEU score (trigrams with smoothing): {bleu_score_trigrams:.4f}\")\n",
    "print(f\"BLEU score (4-grams with smoothing): {bleu_score_4grams:.4f}\")\n"
   ]
  },
  {
   "cell_type": "code",
   "execution_count": null,
   "metadata": {},
   "outputs": [],
   "source": []
  }
 ],
 "metadata": {
  "kernelspec": {
   "display_name": "myenv",
   "language": "python",
   "name": "python3"
  },
  "language_info": {
   "codemirror_mode": {
    "name": "ipython",
    "version": 3
   },
   "file_extension": ".py",
   "mimetype": "text/x-python",
   "name": "python",
   "nbconvert_exporter": "python",
   "pygments_lexer": "ipython3",
   "version": "3.8.18"
  }
 },
 "nbformat": 4,
 "nbformat_minor": 2
}
