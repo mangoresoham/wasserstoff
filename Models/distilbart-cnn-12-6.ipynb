{
 "cells": [
  {
   "cell_type": "code",
   "execution_count": 137,
   "metadata": {},
   "outputs": [
    {
     "data": {
      "text/plain": [
       "24283"
      ]
     },
     "execution_count": 137,
     "metadata": {},
     "output_type": "execute_result"
    }
   ],
   "source": [
    "import PyPDF2\n",
    "\n",
    "# Function to extract text from PDF using PyPDF2\n",
    "def extract_text_from_pdf(file_path):\n",
    "    text = ''\n",
    "    with open(file_path, 'rb') as file:\n",
    "        pdf_reader = PyPDF2.PdfReader(file)\n",
    "        for page_num in range(len(pdf_reader.pages)):\n",
    "            page = pdf_reader.pages[page_num]\n",
    "            text += page.extract_text()\n",
    "    return text\n",
    "\n",
    "# Example usage\n",
    "pdf_file_path = \"D:\\Programming\\Projects\\WASSERSTOFF\\Data\\pdf1.pdf\"  # Replace with your PDF file path\n",
    "document_text = extract_text_from_pdf(pdf_file_path)\n",
    "\n",
    "# Check the extracted text\n",
    "len(document_text)  # Print first 1000 characters\n"
   ]
  },
  {
   "cell_type": "code",
   "execution_count": 138,
   "metadata": {},
   "outputs": [],
   "source": [
    "# document_text=\"\"\"\n",
    "# In a world increasingly defined by technology, the relationship between humans and machines has become a focal point of discussion across various domains. The advent of artificial intelligence (AI) has reshaped industries, impacting everything from healthcare to finance, education to entertainment. With the integration of AI in daily life, there emerges a profound question: what does it mean to be human in an age where machines can replicate cognitive functions? This question is particularly relevant in the realm of healthcare, where AI systems are not only assisting doctors in diagnosing diseases but also in predicting patient outcomes based on vast datasets. As a result, the medical community is witnessing a shift in how care is delivered; physicians are now seen as guides who interpret AI-generated insights rather than sole decision-makers. This paradigm shift has its proponents and critics. Advocates argue that AI enhances human capabilities, allowing for more accurate diagnoses and personalized treatment plans. They cite examples of AI systems that analyze medical images with a precision that rivals expert radiologists, thus improving early detection rates of conditions like cancer. On the other hand, critics voice concerns regarding the ethical implications of relying too heavily on machines, fearing that this could undermine the human touch that is integral to patient care. They point out the risk of data bias, as AI systems trained on historical data may perpetuate existing inequalities in healthcare delivery. Moreover, there are apprehensions about patient privacy, as the use of sensitive health data raises questions about who owns this information and how it is used. As healthcare continues to evolve in this direction, the dialogue surrounding the intersection of technology and human experience becomes even more critical. Moving beyond healthcare, the influence of AI permeates other sectors such as finance, where algorithms determine credit scores and assess loan applications. The automation of these processes promises efficiency and speed, yet it also poses significant challenges. For instance, the opaque nature of algorithmic decision-making can lead to a lack of accountability, making it difficult for individuals to understand why they were denied a loan or insurance coverage. In response, policymakers are grappling with the need to regulate AI to ensure fairness and transparency. The challenge lies in striking a balance between innovation and safeguarding the rights of individuals, a debate that reflects broader societal concerns about the pace of technological advancement. In the realm of education, AI offers tools for personalized learning experiences, adapting curricula to meet the unique needs of each student. This potential for customization is promising, particularly for learners who may struggle in traditional educational settings. However, the reliance on technology raises questions about equity, as not all students have equal access to the necessary tools and resources. The digital divide becomes apparent, highlighting disparities that exist within and between communities. As educators explore the integration of AI in classrooms, they must also consider how to ensure that all students benefit from these innovations. In the creative industries, AI is reshaping the landscape of art, music, and literature. Tools powered by AI are now capable of generating original works, blurring the lines between human creativity and machine-generated content. This evolution prompts discussions about authorship and originality. If a machine creates a piece of art, who is the true artist? Furthermore, the rise of deepfakes and AI-generated media has raised ethical concerns about misinformation and the manipulation of public perception. As technology continues to advance, society faces the dual challenge of embracing innovation while mitigating its risks. The overarching theme across these sectors is the need for a thoughtful approach to AI integration, one that considers the ethical, social, and economic implications of these powerful technologies. The dialogue surrounding AI is not merely academic; it has real-world consequences that affect individuals, communities, and global dynamics. As we stand on the precipice of a future increasingly influenced by artificial intelligence, it is crucial that we engage in ongoing discussions about what it means to live in harmony with machines. The future of work, society, and human interaction hinges on our ability to navigate these complexities with care, foresight, and a commitment to preserving the values that define our humanity. Ultimately, the integration of AI into everyday life challenges us to redefine our roles as individuals and as a society, prompting us to ask profound questions about identity, ethics, and the nature of progress. In this ever-evolving landscape, we must prioritize education, policy development, and ethical considerations to ensure that technology serves as a tool for enhancing human potential rather than a force that diminishes it.\n",
    "# \"\"\"\n",
    "\n",
    "# reference_summary = \"\"\"\n",
    "# The relationship between humans and machines is increasingly defined by the rise of artificial intelligence (AI), impacting various sectors, including healthcare, finance, education, and the creative industries. In healthcare, AI assists in diagnosing diseases and predicting outcomes, prompting discussions about the balance between technology and the human touch in patient care. While proponents argue that AI enhances capabilities, critics raise concerns about data bias, patient privacy, and the potential loss of human empathy. In finance, AI streamlines processes but introduces challenges related to transparency and accountability. The education sector benefits from personalized learning tools, though disparities in access highlight existing inequalities. In creative fields, AI-generated content raises questions about authorship and originality, particularly concerning misinformation. The overarching theme is the necessity for a thoughtful approach to AI integration, balancing innovation with ethical and social implications. As society navigates these complexities, ongoing dialogue is essential to ensure technology enhances human potential while preserving core values.\n",
    "# \"\"\""
   ]
  },
  {
   "cell_type": "code",
   "execution_count": 139,
   "metadata": {},
   "outputs": [
    {
     "data": {
      "text/plain": [
       "'1950 \\nPatntalal \\nJankid-:u \\nv, \\nMohanlal and \\nAnother, \\nPata1tjali \\nS11stri J. \\n!950 \\nDeo, 21. 1008 SUPREME COURT REPORTS [1950] \\nof section 14, it seems to me, they would be bringing \\nthemselves under the bar of section 18 (2). The \\nrespondents cannot therefore claim that the loss of the \\ngoods was explosion damage within the meaning of the \\nOrdinance so as to bring the case within section 14 and \\nat the same time contend that the loss was not \"due \\nto or did not in any way arise ont of the explosion\" in \\norder to a void the bar under section 18. Both sec\\xad\\ntion 14 and section 18 have in view the physical cause \\nfor the loss or damage to property for which compen\\xad\\nsation is claimed and not the cause of action in rela\\xad\\ntion to the person against whom relief is sought. The \\nrespondents cannot, in my opinion, be allowed to take \\nup inconsistent positions in order to bring themselves \\nwithin the one and to get out of the other. \\nI would therefore allow the appeal and dismiss the \\ncounter-claim. \\nDAS J. agreed with the Chief Justice. \\nAppeal dismissed. \\nAgent for the appellants: Mohan Behari Lal. \\nAgent for the respondents : I. N. Shroff. \\nCOMMISSIONER OF INCOME-TAX, \\nWEST BENGAL \\nv. \\nCALCUTTA AGENCY LTD. \\n[SHRI HARILAL KANIA CJ., PATANJAL! SASTRI \\nand DAS JJ.] \\nfo·li.tn Income-tax Act (XI of 1922), ss. 10 (2) (xv), 66-Refer\\xad\\nence-Jwrisdiction of High Ooilf·t-Duty to decide case ori facts \\nstated by Tribuna.l-Accepting arauments of CO\\'ltnsel as proved fa.cts \\nand basing decision on them, impropriety of-Business expenditnre\\xad\\nPayments to avoid disclosure of misfeasance of director.~-Burden of \\nprcof. \\nThe jurisdiction of the High Court in the matter of income\\xad\\ntax references is an advisory jurisdiction and under the Inco:ne\\xad\\ntax Act the decision of the Appellate Tribunal on facts is final \\nunless it can be successfully assailed on the ground tha~ there was ,_ \\nS.C.R. SUPREME COURT REPORTS 1009 \\nno evidence for the conclusions on facts recorded by the Tribnnal. 1950 \\nIt is therefore the duty of the High Court to start by looking at \\ntbe facts found by the Tribunal and ans~\\'e!: the questions of lHW Cornmiss:oritr of \\non that footing. It is not p1·oper to depart fron1 this rule of law Incnme-tax, \\nas it will convert the High Court into a fact finding authority, Wcst Bengal \\nwhich it is not, under the advisory jurisdiction. v. \\nAs the statement of the case prepared by the Appellate Tri· Calcutta Ag•ncy \\nbunal in accordance v.\\'ith the rules fran1ed under the Income-tax Ltd. \\nAct is prepared with the knowledge of the parties concerned and \\nthey have full opportunity to apply for any addition or deletion \\nfrom that statement, if they have approved of the state1nent n1ade \\nby the Tribunal, it iR the agreed etatement of facts by the parties \\non w bich the Iligh Court has to pronouncs its judgment. The \\nHigh Court would be acting improperly if it takes the arguments \\nof the counsel for the assessee as if they were facts and bases its \\nconclusion on tboso arguments. \\nOne of the directors of the assessee company, acting in the \\ncapacity of managing agents of certain l\\\\\\'fills, had dra\\\\vn some \\nhundis in the name of tho Mills, aod as the Mills repudiated lia\\xad\\nbility, suits were filed on the hundis against the Mills and the \\nassessees. The assessees thereupon agreed to reimburse the Mills \\nby permitting the latter to deduct a moiety of the commission \\npa.yable to them under the agreement of managing agency, against \\npayments which the Mills may have to make under the decrees. \\nIn their assessment fio income-tnx the assessees claimed that the \\namounts so deducted should bo excluded from their asRessable \\nincome as business cxpenditme under s. 10 (2) (xv) of tbe Income\\xad\\ntax Act. The Appellate Tribunal found that the assessees had \\nagreed to pay off the decree a1nount from the remuneration due to \\nthem, that the decre.e was passed against them evidently for some \\nmisfeasance committed by their directors, that the books of both \\ncompanies showed that the assessees were paid their remunera\\xad\\ntion in full, and that the expenditure was not therefore laid out \\nfor the purpose of carrying on the business, and also that, as the \\npayment was made for the liquidation of a debt, it was not a \\nrevenue expenditure. In the High Court the assessees\\' counsel \\nargued, relying on the case cf Mitchell v. B. W. Noble Ltd.(1), \\nthat the payments were made by th• assessees to avoid the \\npublicity of an action against them and the consequent exposure \\nand loss of reputation as a. managing agency company, and as \\nsuch the payments were deductible as business expenditure. The \\nHigh Court accepted this argument and reversed the decision of \\nthe Tribunal. \\nHeld, that the High Court acted wrongly in accepting the \\nargurr1ents of the assessees\\' counsel as if they were proved facts \\nand basing its decision on them ; and, as the facts necessary to \\nsupport the claim for exemption under s. 10 (2) (xv) had not been \\nestablished at any stage of the case, the assessees were not entitled \\nto the deduction cJ.imed. \\n(11 (1927] l K.B. 719, \\n1~9 \\n• \\n1010 SUPREME COURT REPORTS [1950) \\n1950 Judgment of the Calcutta High Court reversed. \\n0 . . / APPELLATE JumsDICTION : Civil Appeal No. 59 of onimissioner o \\n1\"come-tax, 1950. \\nWest Bengal Appeal from a Judgment of the High Court of Judi-\\nv. cature at Calcutta (Harries C.J. and Chatterjea J.) \\nGalcu~~/Y\\'\"\\'Y dated 9th Septern ber, 1949, in a reference under \\n· section 66 (2) of the Indian Income-tax Act, 1922. \\n(Reference No. 8 of 1949). \\nM. C. Setalvad, Attorney-General for India (G. N. \\n] oshi, with him) for the appellant. \\nS. Mitra (B. Banerjee, with him) for the respond\\xad\\nents. \\n1950. December 21. The Judgment of the Court \\nwas delivered by \\nKan•a o. J. KANIA C.J.-This is an appeal from the judgment \\nof the High Court at Calcutta (Harries C.J. and \\nChatterjea J.) pronounced on a reference made to it \\nby the Income.tax Tribunal under section 66 (2) of \\nthe Indian Income.tax Act. The relevant facts are \\nthese. The respondents are a private limited company \\nwhich was brought into existence to float various \\ncompanies including cotton mills. In November, 1932, \\nthe Basanti Cotton Mills Ltd. was incorporated and \\nthe respondents were appointed their managing agents. \\nTheir remuneration was fixed at a monthly allowance \\nof Rs. 500 and a commission of 3 per cent. on all gross \\nsales of goods manufactured by the Mills Company. \\nThe fixed monthly allowance was liable to be increased \\nin the event of the capital of the company being \\nincreased. The details are immaterial. lt appears \\nthat certain hundis were drawn by one of the directors \\nof the respondent company, acting in the capacity of \\nthe managing agents of the :Mill Company, in the name \\nof the Mill Company and the same were negotiated to \\nothers. The Nath Bank Ltd. claimed payment of \\nthese hundis. The Mill Company repudiated its \\nliability as it appeared from the books of the Mill \\nCompany that they had not the use of the sum of \\nRs. 1.80,000 claimed by the Nath Bank Ltd. under \\nthe hundis. The Nath Bank Ltd. instituted four suits ·I\\' \\n• \\nS.C.R. SUPREME COURT REPORTS 1011 \\nagainst the Mill Company, in two of which the res-1950 \\npondent company were party-defendants. The Mill Comm;:.;;;n.,· of \\nCompany was advised to settle the suits and the res-Incom•·ta:r:. \\npondent company entered into an agreement with the w .. t Bengal \\nMill Company, the material part of the terms of which •. \\nrnns as follows ·- Calcutta Agency \\n• Ltd. \\n\" Memorandum of Agreement made between the \\nCalcutta Agency Limited of the one part and Basanti Kama c. J. \\nCotton Mills Ltd. of the other part. \\\\;\\\\/HEREAS the \\nNath Bank Limited demanded from the Mills the \\npayment of the sum of Rs. 1,80,000 and interest there-\\non AND WHEREAS the said Mills repudiated their \\nliability in respect thereof as it appeared from the \\nbooks of the said Mills that the said Mills did not have \\nthe use of the said sum of Rs. 1,80 000 or any part there-\\nof AND WHEREAS the said Nath Bank Ltd. there-\\nupon instituted four suits in High Court being suit \\nNos. 1683, 1720, 1735 and 1757 of 1939 for the said \\naggregate sum of Rs. 1,80,000 and the interest thereon \\nAND WHEREAS the said Mills have been advised to \\nsettle the said suits amicably AND WHEREAS the \\nCalcutta Agency Limited by its Directors, S.N. Mitter \\nor S.C. Mitter, having been and being still the Manag-\\ning Agents of the said Mills have undertaken to \\nreimburse the said Mills in respect of the decrees to oe \\nmade in the said four suits in the manner hereinafter \\nappearing NOW THESE PRESENTS WITNESS \\nAND IT IS HEREBY AGREED AND DECLARED \\n(i) That out of the commission of 3% payable by \\nthe said Mills to the said Agency under Regulation 131 \\nof the Articles of Association of the Company, the \\nCompany shall have paramount lien on and deduct \\nand set off a moiety thereof against any payment \\nwhich the said Mills may make in respect of the decrees \\nor any of them and/or costs of the said suits. \\n(ii) The said moiety shall be one half of the \\ncommission so payable less such sum as the Directors \\nof the Mills may from time to time allow to be \\ndeducted.\" \\n.. Under the said agreement, the respondent company \\npaid to the Mill Company Rs. 22,500 made up of \\n• \\n1012 SUPREME COURT REPORTS [1950] \\nt9oO Rs. 18,107 as principal and Rs. 4,393 as interest in the \\n0 -:--:-1accounting year. The assessee company claimed this omm1ssioner o . \\nIncomo-ta:c before the Income-tax Appellate Tribunal as a deduc-\\nWeat Benadi tion permitted under section IO (2) (xv) of the Indian \\nv. Income-tax Act. The relevant part of that section \\nCalcutta Agency runs as follows :-\\nLtd. \"10. (1) \"The tax shall be payable by an assessee \\nKania o. J. under the head \\'Profits and gains of business, pro\\xad\\nfession or vocation\\' in respect of the profits or gains of \\nany bminess, profession or vocation carried on by \\nhim. \\n(2) Such profits or gains shall be computed after \\nmaking the following allowances, namely:-\\n.................................... \\n(xv) any expenditure (not being in the nature \\nof capital expenditure or personal expenses of the \\nassessee) laid out or expended wholly and exclusively \\nfor the purpose of such business, profession or voca\\xad\\ntion.\" \\nIn the statement of the case submitted by the \\nTribunal after reciting the fact of the incorporation of \\nthe company and the terms of the compromise mention\\xad\\ned above, the arguments urged on behalf of the assessee \\ncompany have been recapitulated. The first argument \\nwas that under the first proviso to section 7 of the \\nIndian Income-tax Act, this payment was liable to be \\nexempted. The Tribunal rejected that argument. On \\nthe reference, the High Court also rejected the same \\nand it was not presented before us. The next argu\\xad\\nment of the respondents was that in respect of \\nRs. 22,500 it was entitled to exemption under section \\n10(2) (xv) of the Income-tax Act on the ground that \\nthe payment was an expenditure which was not in the \\nnature of a capital expenditure or personal expenses of \\nthe applicant company but was an expenditure laid \\nout wholly and exclusively for the purpose of its busi\\xad\\nness. They urged that if the applicant company did \\nnot agree to pay this amount, Basanti Cotton Mills \\nLtd. could have brought a suit against the company \\nto realise this amount due on the hundis which would • \\n.. \\n-• \\nS.C.R. SUPREME COURT REPORTS 1013 \\nhave exposed the applicant company to the public and 1950 \\nin order to save themselves from the scandal and main-\\ntain the managing agency they agreed to the deduction Commissioner of \\nof certain amounts from the managing agency commis. 1\"come-ta•, \\nsion due to it and thereby brought it within the West ,Bengal \\nprinciples of the decision of 1Vlitchell v. B. W. Noble Oalcutt.\"Agency \\nLtd.(1) The Tribunal found as facts: (1) That the Ltd. \\napplicant company agreed to pay off the decretal \\namount from the remuneration which they are entitled K.,nia o. J. \\nto get from the Basanti Cotton Mills. (2) The decree \\nwas passed against the applicant company evidently \\nfor certain misfeasance committed by its directors and \\nthe applicant company agreed to pay it off from its \\nremuneration. (3) The books of account of Basanti \\nCotton Mills Ltd. would show that they were paying \\nthe applicant company in full its remuneration and \\nthe books of the applicant company also show that it \\nwas entitled to its remuneration in full. (4) In the \\ncircumstances the Tribunal held that the expenditure \\nwas not laid out wholly and exclusively for the purpose \\nof carrying on the business. (5) Besides, the Tribunal \\nwas of the opinion that in this case it was not a \\nrevenue expenditure at all. As the payment had to \\nbe made towards liquidation of the decretal amount \\nthe Tribunal held, in the circumstances of this case, \\nthat it was a capital payment. On behalf of the res-\\npondent it was argued in the further alternative that \\nthe Privy Council decision in Raja Bijoy Singh \\nDudhuria\\'s easel.\\') would cover the present case. That \\ncontention was rejected by the Tribunal. \\nThis statement of the case prepared by the Income\\xad\\ntax Tribunal and submitted to the High Court for its \\nopinion was perused by the parties and they had no \\nsuggestions to make in respect of the same. The state\\xad\\nment of the case was thus settled with the knowledge \\nand approval of the parties. When the matter came \\nbefore the High Court, Mr. Mitra, who argued the case \\nfor the present respondents, as shown by the judgment \\nof the High Court, urged as follows:-\" If the applicant \\ncompany had not agreed to pay the amount mentioned \\ni 1l [J 921) 1 R. B. 719. 12) 61.T,C. 449, \\n• \\n1014 SUPREME COURT REPORTS [1950] \\n1950 in the aforesaid agreement, then the Basanti Cotton \\nMills Ltd. would have sued the company for the reali\\xad\\nOommi\"\\'•\"\"\\' of sation of the amounts due on the hundis and it seems \\nIncom•·tax, that there would have been no defence to the action. \\nWest Bengal T . Jd h b\\' d th l\\' t t v his wou ave su iecte e app ican company o \\nOa!cutt.\"Ag•ncy the danger of public exposure and in order to save \\nLtd. itself from the scandal and in order to maintain the \\nmanaging agency, the applicant company agreed to \\nKania o. J. deduct certain amounts from the managing agency \\ncommission and therefore such expenditure came with\\xad\\nin section 10(2) (xv) of the Act.\" The High Court \\nthereafter noticed several cases including 111 itchell\\' s \\ncase(\\') and towards the close of the judgment delivered \\nby Chatterjea J. observed as follows:-\"In this case it \\nis clear that the agreement was entered into with a view \\nto avoid the publicity of an action against the mana\\xad\\nging agents and consequent exposure and scandal and \\nin order to maintain the managing agency so that the \\ncompany could carry on its business as before. The \\npayment in question did not bring in any new assets \\ninto existence nor in my opinion can it properly be \\nsaid that it brought into existence an advantage for the \\nenduring benefit of the company\\'s trade. The Appellate \\nTribunal observed that the decree was evidently passed \\nagainst the appellant company for certain misfeasance by \\nits directors and the appellant company agreed to pay \\nit off from its remuneration ...... The object of the agree. \\nment was to enable the company to remove a defect in \\ncarrying on the business of the company and to earn \\nprofits in its business. Therefore this case is covered \\nby the judgment of the Court of Appeal in Mitchell\\'s \\ncase(\\') ...... \" Applying this line of reasoning the High \\nCourt differed from the conclusion of the Tribunal and \\nallowed the deduction to the respondent company under \\nsection 10(2) (xv) of the Income-tax Act, as claimed by \\nthe respondents. The Commissioner of Income.tax, \\nWest Bengal, has come in appeal to us. \\nNow it is clear that this being a claim for exemption \\nof an amount, contended to be an expenditure falling \\nunder section 10(2)(xv), the burden of proving the \\n(l) [1927] l K.B. 719. ... \\n.. • \\nS.C.R. SUPREME COURT REPORTS 1015 \\nnecessary facts in that connection was on the assessee, 1950 \\nit being common ground that the commission was due -:--:-\\nand had become payable and was therefore the business cc7m\"\"0;\\'\" of \\nincome of the assessee company liable to be taxed in ,;.::m;;:;:.1 the assessment year. The jurisdiction of the High Court v. \\nin the matter of income-tax references is an advisory Calcutta Agency \\njurisdiction and under the Act the decision of the Ltd. \\nTribunal on facts is final, unless it can be successfully \\nKa1ita C. J, assailed on the ground that there was no evidence for \\nthe conclusions on facts recorded by the Tribunal. It \\nis therefore the duty of the High Court to start by \\nlooking at the facts found by the Tribunal and answer \\nthe questions of law on that footing. Any departure \\nfrom this rule of law will convert the High Court into \\na fact-finding authority, which it is not under the \\nadvisory jurisdiction. The statement of the case under \\nthe rules framed under the Income-tax Act is prepared \\nwith the knowledge of the parties concerned and they \\nhave a full opportunity to apply for any addition or \\ndeletion from that statement of the case. If they \\napproved of that statement that is the agreed state. \\nment of facts by the parties on which the High \\nCourt has to pronounce its judgment. In the present \\ncase the parties perused the statement of case and as \\ndisclosed by the note made at the end of it had no sug-\\ngestions to make in respect thereof. It is therefore clear \\nthat it was the duty of the High Court to start with \\nthat statement of the case as the final statement of \\nfacts. Surprisingly, we find that the High Court, in \\nits judgment, has taken the argument of Mr. Mitra as \\nif they were facts and have based their conclusion \\nsolely on that argument. Nowhere in the statement \\nof the case prepared by the Tribunal and filed in the \\nHigh Court, the Tribunal had come to the conclusion \\nthat the payment was made by the assessee company \\nto avoid any danger of public exposure or to save itself \\nfrom scandal or in order to maintain the managing \\nagency of the appellant company. The whole con-\\nclusion of the High Court is based on this unwarranted \\nassumption of facts which are taken only from the \\nargument of counsel for the present respondents before \\n• \\n• \\n1016 SUPREME COURT REPORTS [1950) \\n1950 the High Court. The danger of failing to recognise \\n-. -. that the jurisdiction of the High Court in these matters \\nCommm•onu of· l d · d 1 l · f J T \\'b 1 \\n1 · t \" is on y a v1sory an t ie cone uswns o t ie n una \\n;,;:;m;~:a~z on facts are the conclusions on which the High Conrt \\nv, is to exercise such advisory jurisdiction is illustrated \\nOa\\'cutta Agency by this case. It seems that unfortunately counsel for \\nLtd. the respondents caught hold of Mitchell\\'s case(1) and \\n-basing his argument on the circumstances under which Ka,zia 0. J. d a payment could be escribed as a business expenditure \\nfalling within the terms of section 10 (2) (xv), argued \\nthat the facts in the present case were the same. \\nInstead of first ascertaining what were the facts found \\nby the Tribunal in the present case, the process was \\nreversed and the procedure adopted was to take Mit\\xad\\nchell\\'s case(1) as the law and argue that the facts in the \\npresent case covered the situation. In our opinion \\nthis is an entirely wrong approach and should not \\nhave been permitted by the High Court. The High \\nCourt fell into a grave error in omitting first to ascer\\xad\\ntain what were the facts found in the case stated by the \\nTribunal. The High Court overlooked that in Afitchell\\'s \\ncase(\\') the whole discussion started with a quotation \\nfrom the case stated by the Commissioners as the facts \\nof the case. \\nA scrutiny of the record in the present case shows \\nthat before the Income-tax Officer the assessees \\nclaimed only a deduction of the interest of Rs. 5,582 \\nas a permissible deduction under section 10 (2) (iii) of \\nthe Income-tax Act. That claim was rejected by the \\nIncome-tax Officer. When the matter went to the \\nAssistant Income-tax Commissioner it was argued that \\nthe Income-tax Officer was in error in not allowing the \\ndeduction of interest and was also wrong in not allowing \\nthe entire sum of Rs. 22,500 as a deduction on the \\nground that, that portion of the income (viz., Rs . .\\'22,500) \\nshould be treated as not earned or deemed to be earned \\nby the assessees at all, having regard to the decision \\nof the Privy Council in Raja Bijoy Singh Dudhuria\\'s \\ncase.(\\') The first paragraph of the order of the Appellate \\nAssistant Commissioner contains the following \\n(ll [1927) I K, B. 719. 12) 6 I.T.C. \\'49, \\n• • \\n\\' \\n.. • \\nS.C.R. SUPREME COURT REPORTS l017 \\nstatement:-\" In disallowing this (interest) claim the 1950 \\nIncome-tax Officer was following the decision of my .--\\npredecessor in his order dated the 18th March 1942 in Oommimoner 0! \\nAppeal No._ 1-~-~ 1 of.1941-42. My predecessor obser- ~:~·;;~~~1 • \\nved: \"Nothmg 1s m evidence to show that the managmg v. \\nagency company had surplus money and such money Calcutta Ag••cv \\n· was invested or that there was any need to borrow. Ltd. \\nThus the need to borrow is not established. There is \\nno doubt that money was borrowed but lmless it can Kania c. J. \\nto proved that the borrowing is for the purpose of the \\nbusiness and the loan was u:sed in the business, the \\ninterest cannot be allowed under section 10(2)(iii).\" \\nThe second objection raised before the Appellate \\nAssistant Commissioner was in these terms:-·\\' That \\nthe Income-tax Officer should have allowed the said sum \\nof Rs. 22,500 as allowable expenditure being alloca\\xad\\ntion of a sum out of the revenue receipt before it became \\nincome in the hands of the assessee.\" The wording of \\nthe objection and the argument noticed in the order of \\nthe Appellate Assistant Commissioner show that the \\ncontention was that this sum should be treated as not \\nhaving become the income of the assessee at all because \\nit was deducted at the source by the Mill company. \\nReliance was placed for this contention on Raja Bijoy \\nSingh Dudhuria\\'s case(\\'). The contention was· rejected. \\nAt the third stage, when the assessee urged his conten\\xad\\ntions before the Income Tax Appellate Tribunal, he \\nthought of urging as an argument that this was a per\\xad\\nmissible deduction under section 10 (2) (xv) because of \\nthe principles laid down in Mitchell\\'s case(2). No \\nevidence, it appears, was led before the Income Tax \\nTribunal, nor has the Tribunal recorded any findings \\nof fact on which the principles laid down in Mitchell\\'s \\ncase(\\') could be applied. The Tribunal\\'s conclusions of \\nfacts were only as summarized in the earlier part of \\nthe judgment. It is therefore clear that the necessary \\nfacts required to be established before the principles \\nlaid down in Mitchell\\'s case(2) could be applied, have \\nnot been found as facts in the present case at any stage \\nof the proceedings and the High Court was in error \\nil) 6 I.T.C. H9. \\n130 (~) [19271 I K.B. 719. \\n• \\n• \\n1018 SUPREME COURT REPORTS [1950] \\n1950 in applying the principles of Mitchell\\'s case(1) on the \\n-. -. assumption of facts which were not proved. The High \\nOomI missioner of Court was carried away, it seems, by the argument of \\nncome~tax, \\nWest Bengal the counsel and through error accepted the argument \\nv. as facts. Indeed, if it had noticed the contention \\nCalcutta Agenoy urged before the Income-tax Officer it would have seen \\nLtd, at once that the argument was in a measure conflicting· \\nwith that contention which was based on the foot-\\nKania a. 1· ing of Rs. 1,80,000 being a loan to the assessee on \\nwhich it had to pay interest, which was sought to be \\ndeducted under section 10 (2) (iii) of the Income-tax \\nAct. In our opinion. therefore, this appeal should be \\nallowed on the simple ground that the facts necessary \\nto be established by the respondents to support their \\nclaim for exemption under section 10 (2) (xv) of the \\nIndian Income-tax Act have not been established at \\nany stage of the proceedings and therefore they are \\nnot entitled to the deduction claimed. The appeal is \\ntherefore allowed with costs here and before the High \\nCourt. \\nAppeal allowed. \\nAgent for the appellant : P.A. Mehta. \\nAgent for the respondents: Ganpat Rai. \\n(1) [19~1] 1 K.B. 719 . \\n• \\'J\\' \\n'"
      ]
     },
     "execution_count": 139,
     "metadata": {},
     "output_type": "execute_result"
    }
   ],
   "source": [
    "document_text"
   ]
  },
  {
   "cell_type": "code",
   "execution_count": 140,
   "metadata": {},
   "outputs": [],
   "source": [
    "document_text = document_text.replace('.','.<eos>')\n",
    "document_text = document_text.replace('!','!<eos>')\n",
    "document_text = document_text.replace('?','?<eos>')\n",
    "document_text = document_text.replace('\\n', ' ')\n",
    "\n",
    "sentences=document_text.split('<eos>')\n",
    "sentences = [sentence.strip() for sentence in sentences if sentence.strip()]"
   ]
  },
  {
   "cell_type": "code",
   "execution_count": 141,
   "metadata": {},
   "outputs": [
    {
     "data": {
      "text/plain": [
       "['1950  Patntalal  Jankid-:u  v,  Mohanlal and  Another,  Pata1tjali  S11stri J.',\n",
       " '!',\n",
       " '950  Deo, 21.',\n",
       " '1008 SUPREME COURT REPORTS [1950]  of section 14, it seems to me, they would be bringing  themselves under the bar of section 18 (2).',\n",
       " 'The  respondents cannot therefore claim that the loss of the  goods was explosion damage within the meaning of the  Ordinance so as to bring the case within section 14 and  at the same time contend that the loss was not \"due  to or did not in any way arise ont of the explosion\" in  order to a void the bar under section 18.',\n",
       " 'Both sec\\xad tion 14 and section 18 have in view the physical cause  for the loss or damage to property for which compen\\xad sation is claimed and not the cause of action in rela\\xad tion to the person against whom relief is sought.',\n",
       " 'The  respondents cannot, in my opinion, be allowed to take  up inconsistent positions in order to bring themselves  within the one and to get out of the other.',\n",
       " 'I would therefore allow the appeal and dismiss the  counter-claim.',\n",
       " 'DAS J.',\n",
       " 'agreed with the Chief Justice.',\n",
       " 'Appeal dismissed.',\n",
       " 'Agent for the appellants: Mohan Behari Lal.',\n",
       " 'Agent for the respondents : I.',\n",
       " 'N.',\n",
       " 'Shroff.',\n",
       " 'COMMISSIONER OF INCOME-TAX,  WEST BENGAL  v.',\n",
       " 'CALCUTTA AGENCY LTD.',\n",
       " '[SHRI HARILAL KANIA CJ.',\n",
       " ', PATANJAL!',\n",
       " 'SASTRI  and DAS JJ.',\n",
       " ']  fo·li.',\n",
       " 'tn Income-tax Act (XI of 1922), ss.',\n",
       " '10 (2) (xv), 66-Refer\\xad ence-Jwrisdiction of High Ooilf·t-Duty to decide case ori facts  stated by Tribuna.',\n",
       " \"l-Accepting arauments of CO'ltnsel as proved fa.\",\n",
       " 'cts  and basing decision on them, impropriety of-Business expenditnre\\xad Payments to avoid disclosure of misfeasance of director.',\n",
       " '~-Burden of  prcof.',\n",
       " 'The jurisdiction of the High Court in the matter of income\\xad tax references is an advisory jurisdiction and under the Inco:ne\\xad tax Act the decision of the Appellate Tribunal on facts is final  unless it can be successfully assailed on the ground tha~ there was ,_  S.',\n",
       " 'C.',\n",
       " 'R.',\n",
       " 'SUPREME COURT REPORTS 1009  no evidence for the conclusions on facts recorded by the Tribnnal.',\n",
       " \"1950  It is therefore the duty of the High Court to start by looking at  tbe facts found by the Tribunal and ans~'e!\",\n",
       " ': the questions of lHW Cornmiss:oritr of  on that footing.',\n",
       " 'It is not p1·oper to depart fron1 this rule of law Incnme-tax,  as it will convert the High Court into a fact finding authority, Wcst Bengal  which it is not, under the advisory jurisdiction.',\n",
       " 'v.',\n",
       " 'As the statement of the case prepared by the Appellate Tri· Calcutta Ag•ncy  bunal in accordance v.',\n",
       " \"'ith the rules fran1ed under the Income-tax Ltd.\",\n",
       " 'Act is prepared with the knowledge of the parties concerned and  they have full opportunity to apply for any addition or deletion  from that statement, if they have approved of the state1nent n1ade  by the Tribunal, it iR the agreed etatement of facts by the parties  on w bich the Iligh Court has to pronouncs its judgment.',\n",
       " 'The  High Court would be acting improperly if it takes the arguments  of the counsel for the assessee as if they were facts and bases its  conclusion on tboso arguments.',\n",
       " \"One of the directors of the assessee company, acting in the  capacity of managing agents of certain l\\\\'fills, had dra\\\\vn some  hundis in the name of tho Mills, aod as the Mills repudiated lia\\xad bility, suits were filed on the hundis against the Mills and the  assessees.\",\n",
       " 'The assessees thereupon agreed to reimburse the Mills  by permitting the latter to deduct a moiety of the commission  pa.',\n",
       " 'yable to them under the agreement of managing agency, against  payments which the Mills may have to make under the decrees.',\n",
       " 'In their assessment fio income-tnx the assessees claimed that the  amounts so deducted should bo excluded from their asRessable  income as business cxpenditme under s.',\n",
       " '10 (2) (xv) of tbe Income\\xad tax Act.',\n",
       " 'The Appellate Tribunal found that the assessees had  agreed to pay off the decree a1nount from the remuneration due to  them, that the decre.',\n",
       " 'e was passed against them evidently for some  misfeasance committed by their directors, that the books of both  companies showed that the assessees were paid their remunera\\xad tion in full, and that the expenditure was not therefore laid out  for the purpose of carrying on the business, and also that, as the  payment was made for the liquidation of a debt, it was not a  revenue expenditure.',\n",
       " \"In the High Court the assessees' counsel  argued, relying on the case cf Mitchell v.\",\n",
       " 'B.',\n",
       " 'W.',\n",
       " 'Noble Ltd.',\n",
       " '(1),  that the payments were made by th• assessees to avoid the  publicity of an action against them and the consequent exposure  and loss of reputation as a.',\n",
       " 'managing agency company, and as  such the payments were deductible as business expenditure.',\n",
       " 'The  High Court accepted this argument and reversed the decision of  the Tribunal.',\n",
       " \"Held, that the High Court acted wrongly in accepting the  argurr1ents of the assessees' counsel as if they were proved facts  and basing its decision on them ; and, as the facts necessary to  support the claim for exemption under s.\",\n",
       " '10 (2) (xv) had not been  established at any stage of the case, the assessees were not entitled  to the deduction cJ.',\n",
       " 'imed.',\n",
       " '(11 (1927] l K.',\n",
       " 'B.',\n",
       " '719,  1~9  •  1010 SUPREME COURT REPORTS [1950)  1950 Judgment of the Calcutta High Court reversed.',\n",
       " '0 .',\n",
       " '.',\n",
       " '/ APPELLATE JumsDICTION : Civil Appeal No.',\n",
       " '59 of onimissioner o  1\"come-tax, 1950.',\n",
       " 'West Bengal Appeal from a Judgment of the High Court of Judi- v.',\n",
       " 'cature at Calcutta (Harries C.',\n",
       " 'J.',\n",
       " 'and Chatterjea J.',\n",
       " ')  Galcu~~/Y\\'\"\\'Y dated 9th Septern ber, 1949, in a reference under  · section 66 (2) of the Indian Income-tax Act, 1922.',\n",
       " '(Reference No.',\n",
       " '8 of 1949).',\n",
       " 'M.',\n",
       " 'C.',\n",
       " 'Setalvad, Attorney-General for India (G.',\n",
       " 'N.',\n",
       " '] oshi, with him) for the appellant.',\n",
       " 'S.',\n",
       " 'Mitra (B.',\n",
       " 'Banerjee, with him) for the respond\\xad ents.',\n",
       " '1950.',\n",
       " 'December 21.',\n",
       " 'The Judgment of the Court  was delivered by  Kan•a o.',\n",
       " 'J.',\n",
       " 'KANIA C.',\n",
       " 'J.',\n",
       " '-This is an appeal from the judgment  of the High Court at Calcutta (Harries C.',\n",
       " 'J.',\n",
       " 'and  Chatterjea J.',\n",
       " ') pronounced on a reference made to it  by the Income.',\n",
       " 'tax Tribunal under section 66 (2) of  the Indian Income.',\n",
       " 'tax Act.',\n",
       " 'The relevant facts are  these.',\n",
       " 'The respondents are a private limited company  which was brought into existence to float various  companies including cotton mills.',\n",
       " 'In November, 1932,  the Basanti Cotton Mills Ltd.',\n",
       " 'was incorporated and  the respondents were appointed their managing agents.',\n",
       " 'Their remuneration was fixed at a monthly allowance  of Rs.',\n",
       " '500 and a commission of 3 per cent.',\n",
       " 'on all gross  sales of goods manufactured by the Mills Company.',\n",
       " 'The fixed monthly allowance was liable to be increased  in the event of the capital of the company being  increased.',\n",
       " 'The details are immaterial.',\n",
       " 'lt appears  that certain hundis were drawn by one of the directors  of the respondent company, acting in the capacity of  the managing agents of the :Mill Company, in the name  of the Mill Company and the same were negotiated to  others.',\n",
       " 'The Nath Bank Ltd.',\n",
       " 'claimed payment of  these hundis.',\n",
       " 'The Mill Company repudiated its  liability as it appeared from the books of the Mill  Company that they had not the use of the sum of  Rs.',\n",
       " '1.',\n",
       " '80,000 claimed by the Nath Bank Ltd.',\n",
       " 'under  the hundis.',\n",
       " 'The Nath Bank Ltd.',\n",
       " \"instituted four suits ·I'  •  S.\",\n",
       " 'C.',\n",
       " 'R.',\n",
       " 'SUPREME COURT REPORTS 1011  against the Mill Company, in two of which the res-1950  pondent company were party-defendants.',\n",
       " 'The Mill Comm;:.',\n",
       " ';;;n.',\n",
       " ',· of  Company was advised to settle the suits and the res-Incom•·ta:r:.',\n",
       " 'pondent company entered into an agreement with the w .',\n",
       " '.',\n",
       " 't Bengal  Mill Company, the material part of the terms of which •.',\n",
       " 'rnns as follows ·- Calcutta Agency  • Ltd.',\n",
       " '\" Memorandum of Agreement made between the  Calcutta Agency Limited of the one part and Basanti Kama c.',\n",
       " 'J.',\n",
       " 'Cotton Mills Ltd.',\n",
       " 'of the other part.',\n",
       " '\\\\;\\\\/HEREAS the  Nath Bank Limited demanded from the Mills the  payment of the sum of Rs.',\n",
       " '1,80,000 and interest there- on AND WHEREAS the said Mills repudiated their  liability in respect thereof as it appeared from the  books of the said Mills that the said Mills did not have  the use of the said sum of Rs.',\n",
       " '1,80 000 or any part there- of AND WHEREAS the said Nath Bank Ltd.',\n",
       " 'there- upon instituted four suits in High Court being suit  Nos.',\n",
       " '1683, 1720, 1735 and 1757 of 1939 for the said  aggregate sum of Rs.',\n",
       " '1,80,000 and the interest thereon  AND WHEREAS the said Mills have been advised to  settle the said suits amicably AND WHEREAS the  Calcutta Agency Limited by its Directors, S.',\n",
       " 'N.',\n",
       " 'Mitter  or S.',\n",
       " 'C.',\n",
       " 'Mitter, having been and being still the Manag- ing Agents of the said Mills have undertaken to  reimburse the said Mills in respect of the decrees to oe  made in the said four suits in the manner hereinafter  appearing NOW THESE PRESENTS WITNESS  AND IT IS HEREBY AGREED AND DECLARED  (i) That out of the commission of 3% payable by  the said Mills to the said Agency under Regulation 131  of the Articles of Association of the Company, the  Company shall have paramount lien on and deduct  and set off a moiety thereof against any payment  which the said Mills may make in respect of the decrees  or any of them and/or costs of the said suits.',\n",
       " '(ii) The said moiety shall be one half of the  commission so payable less such sum as the Directors  of the Mills may from time to time allow to be  deducted.',\n",
       " '\"  .',\n",
       " '.',\n",
       " 'Under the said agreement, the respondent company  paid to the Mill Company Rs.',\n",
       " '22,500 made up of  •  1012 SUPREME COURT REPORTS [1950]  t9oO Rs.',\n",
       " '18,107 as principal and Rs.',\n",
       " '4,393 as interest in the  0 -:--:-1accounting year.',\n",
       " 'The assessee company claimed this omm1ssioner o .',\n",
       " 'Incomo-ta:c before the Income-tax Appellate Tribunal as a deduc- Weat Benadi tion permitted under section IO (2) (xv) of the Indian  v.',\n",
       " 'Income-tax Act.',\n",
       " 'The relevant part of that section  Calcutta Agency runs as follows :- Ltd.',\n",
       " '\"10.',\n",
       " '(1) \"The tax shall be payable by an assessee  Kania o.',\n",
       " 'J.',\n",
       " \"under the head 'Profits and gains of business, pro\\xad fession or vocation' in respect of the profits or gains of  any bminess, profession or vocation carried on by  him.\",\n",
       " '(2) Such profits or gains shall be computed after  making the following allowances, namely:- .',\n",
       " '.',\n",
       " '.',\n",
       " '.',\n",
       " '.',\n",
       " '.',\n",
       " '.',\n",
       " '.',\n",
       " '.',\n",
       " '.',\n",
       " '.',\n",
       " '.',\n",
       " '.',\n",
       " '.',\n",
       " '.',\n",
       " '.',\n",
       " '.',\n",
       " '.',\n",
       " '.',\n",
       " '.',\n",
       " '.',\n",
       " '.',\n",
       " '.',\n",
       " '.',\n",
       " '.',\n",
       " '.',\n",
       " '.',\n",
       " '.',\n",
       " '.',\n",
       " '.',\n",
       " '.',\n",
       " '.',\n",
       " '.',\n",
       " '.',\n",
       " '.',\n",
       " '.',\n",
       " '(xv) any expenditure (not being in the nature  of capital expenditure or personal expenses of the  assessee) laid out or expended wholly and exclusively  for the purpose of such business, profession or voca\\xad tion.',\n",
       " '\"  In the statement of the case submitted by the  Tribunal after reciting the fact of the incorporation of  the company and the terms of the compromise mention\\xad ed above, the arguments urged on behalf of the assessee  company have been recapitulated.',\n",
       " 'The first argument  was that under the first proviso to section 7 of the  Indian Income-tax Act, this payment was liable to be  exempted.',\n",
       " 'The Tribunal rejected that argument.',\n",
       " 'On  the reference, the High Court also rejected the same  and it was not presented before us.',\n",
       " 'The next argu\\xad ment of the respondents was that in respect of  Rs.',\n",
       " '22,500 it was entitled to exemption under section  10(2) (xv) of the Income-tax Act on the ground that  the payment was an expenditure which was not in the  nature of a capital expenditure or personal expenses of  the applicant company but was an expenditure laid  out wholly and exclusively for the purpose of its busi\\xad ness.',\n",
       " 'They urged that if the applicant company did  not agree to pay this amount, Basanti Cotton Mills  Ltd.',\n",
       " 'could have brought a suit against the company  to realise this amount due on the hundis which would •  .',\n",
       " '.',\n",
       " '-•  S.',\n",
       " 'C.',\n",
       " 'R.',\n",
       " 'SUPREME COURT REPORTS 1013  have exposed the applicant company to the public and 1950  in order to save themselves from the scandal and main- tain the managing agency they agreed to the deduction Commissioner of  of certain amounts from the managing agency commis.',\n",
       " '1\"come-ta•,  sion due to it and thereby brought it within the West ,Bengal  principles of the decision of 1Vlitchell v.',\n",
       " 'B.',\n",
       " 'W.',\n",
       " 'Noble Oalcutt.',\n",
       " '\"Agency  Ltd.',\n",
       " '(1) The Tribunal found as facts: (1) That the Ltd.',\n",
       " 'applicant company agreed to pay off the decretal  amount from the remuneration which they are entitled K.',\n",
       " ',nia o.',\n",
       " 'J.',\n",
       " 'to get from the Basanti Cotton Mills.',\n",
       " '(2) The decree  was passed against the applicant company evidently  for certain misfeasance committed by its directors and  the applicant company agreed to pay it off from its  remuneration.',\n",
       " '(3) The books of account of Basanti  Cotton Mills Ltd.',\n",
       " 'would show that they were paying  the applicant company in full its remuneration and  the books of the applicant company also show that it  was entitled to its remuneration in full.',\n",
       " '(4) In the  circumstances the Tribunal held that the expenditure  was not laid out wholly and exclusively for the purpose  of carrying on the business.',\n",
       " '(5) Besides, the Tribunal  was of the opinion that in this case it was not a  revenue expenditure at all.',\n",
       " 'As the payment had to  be made towards liquidation of the decretal amount  the Tribunal held, in the circumstances of this case,  that it was a capital payment.',\n",
       " \"On behalf of the res- pondent it was argued in the further alternative that  the Privy Council decision in Raja Bijoy Singh  Dudhuria's easel.\",\n",
       " \"') would cover the present case.\",\n",
       " 'That  contention was rejected by the Tribunal.',\n",
       " 'This statement of the case prepared by the Income\\xad tax Tribunal and submitted to the High Court for its  opinion was perused by the parties and they had no  suggestions to make in respect of the same.',\n",
       " 'The state\\xad ment of the case was thus settled with the knowledge  and approval of the parties.',\n",
       " 'When the matter came  before the High Court, Mr.',\n",
       " 'Mitra, who argued the case  for the present respondents, as shown by the judgment  of the High Court, urged as follows:-\" If the applicant  company had not agreed to pay the amount mentioned  i 1l [J 921) 1 R.',\n",
       " 'B.',\n",
       " '719.',\n",
       " '12) 61.',\n",
       " 'T,C.',\n",
       " '449,  •  1014 SUPREME COURT REPORTS [1950]  1950 in the aforesaid agreement, then the Basanti Cotton  Mills Ltd.',\n",
       " 'would have sued the company for the reali\\xad Oommi\"\\'•\"\"\\' of sation of the amounts due on the hundis and it seems  Incom•·tax, that there would have been no defence to the action.',\n",
       " 'West Bengal T .',\n",
       " \"Jd h b' d th l' t t v his wou ave su iecte e app ican company o  Oa!\",\n",
       " 'cutt.',\n",
       " '\"Ag•ncy the danger of public exposure and in order to save  Ltd.',\n",
       " 'itself from the scandal and in order to maintain the  managing agency, the applicant company agreed to  Kania o.',\n",
       " 'J.',\n",
       " 'deduct certain amounts from the managing agency  commission and therefore such expenditure came with\\xad in section 10(2) (xv) of the Act.',\n",
       " '\" The High Court  thereafter noticed several cases including 111 itchell\\' s  case(\\') and towards the close of the judgment delivered  by Chatterjea J.',\n",
       " 'observed as follows:-\"In this case it  is clear that the agreement was entered into with a view  to avoid the publicity of an action against the mana\\xad ging agents and consequent exposure and scandal and  in order to maintain the managing agency so that the  company could carry on its business as before.',\n",
       " \"The  payment in question did not bring in any new assets  into existence nor in my opinion can it properly be  said that it brought into existence an advantage for the  enduring benefit of the company's trade.\",\n",
       " 'The Appellate  Tribunal observed that the decree was evidently passed  against the appellant company for certain misfeasance by  its directors and the appellant company agreed to pay  it off from its remuneration .',\n",
       " '.',\n",
       " '.',\n",
       " '.',\n",
       " '.',\n",
       " '.',\n",
       " 'The object of the agree.',\n",
       " 'ment was to enable the company to remove a defect in  carrying on the business of the company and to earn  profits in its business.',\n",
       " \"Therefore this case is covered  by the judgment of the Court of Appeal in Mitchell's  case(') .\",\n",
       " '.',\n",
       " '.',\n",
       " '.',\n",
       " '.',\n",
       " '.',\n",
       " '\" Applying this line of reasoning the High  Court differed from the conclusion of the Tribunal and  allowed the deduction to the respondent company under  section 10(2) (xv) of the Income-tax Act, as claimed by  the respondents.',\n",
       " 'The Commissioner of Income.',\n",
       " 'tax,  West Bengal, has come in appeal to us.',\n",
       " 'Now it is clear that this being a claim for exemption  of an amount, contended to be an expenditure falling  under section 10(2)(xv), the burden of proving the  (l) [1927] l K.',\n",
       " 'B.',\n",
       " '719.',\n",
       " '.',\n",
       " '.',\n",
       " '.',\n",
       " '.',\n",
       " '.',\n",
       " '•  S.',\n",
       " 'C.',\n",
       " 'R.',\n",
       " 'SUPREME COURT REPORTS 1015  necessary facts in that connection was on the assessee, 1950  it being common ground that the commission was due -:--:- and had become payable and was therefore the business cc7m\"\"0;\\'\" of  income of the assessee company liable to be taxed in ,;.',\n",
       " '::m;;:;:.',\n",
       " '1 the assessment year.',\n",
       " 'The jurisdiction of the High Court v.',\n",
       " 'in the matter of income-tax references is an advisory Calcutta Agency  jurisdiction and under the Act the decision of the Ltd.',\n",
       " 'Tribunal on facts is final, unless it can be successfully  Ka1ita C.',\n",
       " 'J, assailed on the ground that there was no evidence for  the conclusions on facts recorded by the Tribunal.',\n",
       " 'It  is therefore the duty of the High Court to start by  looking at the facts found by the Tribunal and answer  the questions of law on that footing.',\n",
       " 'Any departure  from this rule of law will convert the High Court into  a fact-finding authority, which it is not under the  advisory jurisdiction.',\n",
       " 'The statement of the case under  the rules framed under the Income-tax Act is prepared  with the knowledge of the parties concerned and they  have a full opportunity to apply for any addition or  deletion from that statement of the case.',\n",
       " 'If they  approved of that statement that is the agreed state.',\n",
       " 'ment of facts by the parties on which the High  Court has to pronounce its judgment.',\n",
       " 'In the present  case the parties perused the statement of case and as  disclosed by the note made at the end of it had no sug- gestions to make in respect thereof.',\n",
       " 'It is therefore clear  that it was the duty of the High Court to start with  that statement of the case as the final statement of  facts.',\n",
       " 'Surprisingly, we find that the High Court, in  its judgment, has taken the argument of Mr.',\n",
       " 'Mitra as  if they were facts and have based their conclusion  solely on that argument.',\n",
       " 'Nowhere in the statement  of the case prepared by the Tribunal and filed in the  High Court, the Tribunal had come to the conclusion  that the payment was made by the assessee company  to avoid any danger of public exposure or to save itself  from scandal or in order to maintain the managing  agency of the appellant company.',\n",
       " 'The whole con- clusion of the High Court is based on this unwarranted  assumption of facts which are taken only from the  argument of counsel for the present respondents before  •  •  1016 SUPREME COURT REPORTS [1950)  1950 the High Court.',\n",
       " 'The danger of failing to recognise  -.',\n",
       " '-.',\n",
       " 'that the jurisdiction of the High Court in these matters  Commm•onu of· l d · d 1 l · f J T \\'b 1  1 · t \" is on y a v1sory an t ie cone uswns o t ie n una  ;,;:;m;~:a~z on facts are the conclusions on which the High Conrt  v, is to exercise such advisory jurisdiction is illustrated  Oa\\'cutta Agency by this case.',\n",
       " 'It seems that unfortunately counsel for  Ltd.',\n",
       " \"the respondents caught hold of Mitchell's case(1) and  -basing his argument on the circumstances under which Ka,zia 0.\",\n",
       " 'J.',\n",
       " 'd a payment could be escribed as a business expenditure  falling within the terms of section 10 (2) (xv), argued  that the facts in the present case were the same.',\n",
       " \"Instead of first ascertaining what were the facts found  by the Tribunal in the present case, the process was  reversed and the procedure adopted was to take Mit\\xad chell's case(1) as the law and argue that the facts in the  present case covered the situation.\",\n",
       " 'In our opinion  this is an entirely wrong approach and should not  have been permitted by the High Court.',\n",
       " 'The High  Court fell into a grave error in omitting first to ascer\\xad tain what were the facts found in the case stated by the  Tribunal.',\n",
       " \"The High Court overlooked that in Afitchell's  case(') the whole discussion started with a quotation  from the case stated by the Commissioners as the facts  of the case.\",\n",
       " 'A scrutiny of the record in the present case shows  that before the Income-tax Officer the assessees  claimed only a deduction of the interest of Rs.',\n",
       " '5,582  as a permissible deduction under section 10 (2) (iii) of  the Income-tax Act.',\n",
       " 'That claim was rejected by the  Income-tax Officer.',\n",
       " 'When the matter went to the  Assistant Income-tax Commissioner it was argued that  the Income-tax Officer was in error in not allowing the  deduction of interest and was also wrong in not allowing  the entire sum of Rs.',\n",
       " '22,500 as a deduction on the  ground that, that portion of the income (viz.',\n",
       " ', Rs .',\n",
       " '.',\n",
       " \"'22,500)  should be treated as not earned or deemed to be earned  by the assessees at all, having regard to the decision  of the Privy Council in Raja Bijoy Singh Dudhuria's  case.\",\n",
       " \"(') The first paragraph of the order of the Appellate  Assistant Commissioner contains the following  (ll [1927) I K, B.\",\n",
       " '719.',\n",
       " '12) 6 I.',\n",
       " 'T.',\n",
       " 'C.',\n",
       " \"'49,  • •  '  .\",\n",
       " '.',\n",
       " '•  S.',\n",
       " 'C.',\n",
       " 'R.',\n",
       " 'SUPREME COURT REPORTS l017  statement:-\" In disallowing this (interest) claim the 1950  Income-tax Officer was following the decision of my .',\n",
       " '-- predecessor in his order dated the 18th March 1942 in Oommimoner 0!',\n",
       " 'Appeal No.',\n",
       " '_ 1-~-~ 1 of.',\n",
       " '1941-42.',\n",
       " 'My predecessor obser- ~:~·;;~~~1 •  ved: \"Nothmg 1s m evidence to show that the managmg v.',\n",
       " 'agency company had surplus money and such money Calcutta Ag••cv  · was invested or that there was any need to borrow.',\n",
       " 'Ltd.',\n",
       " 'Thus the need to borrow is not established.',\n",
       " 'There is  no doubt that money was borrowed but lmless it can Kania c.',\n",
       " 'J.',\n",
       " 'to proved that the borrowing is for the purpose of the  business and the loan was u:sed in the business, the  interest cannot be allowed under section 10(2)(iii).',\n",
       " '\"  The second objection raised before the Appellate  Assistant Commissioner was in these terms:-·\\' That  the Income-tax Officer should have allowed the said sum  of Rs.',\n",
       " '22,500 as allowable expenditure being alloca\\xad tion of a sum out of the revenue receipt before it became  income in the hands of the assessee.',\n",
       " '\" The wording of  the objection and the argument noticed in the order of  the Appellate Assistant Commissioner show that the  contention was that this sum should be treated as not  having become the income of the assessee at all because  it was deducted at the source by the Mill company.',\n",
       " \"Reliance was placed for this contention on Raja Bijoy  Singh Dudhuria's case(').\",\n",
       " 'The contention was· rejected.',\n",
       " \"At the third stage, when the assessee urged his conten\\xad tions before the Income Tax Appellate Tribunal, he  thought of urging as an argument that this was a per\\xad missible deduction under section 10 (2) (xv) because of  the principles laid down in Mitchell's case(2).\",\n",
       " \"No  evidence, it appears, was led before the Income Tax  Tribunal, nor has the Tribunal recorded any findings  of fact on which the principles laid down in Mitchell's  case(') could be applied.\",\n",
       " \"The Tribunal's conclusions of  facts were only as summarized in the earlier part of  the judgment.\",\n",
       " \"It is therefore clear that the necessary  facts required to be established before the principles  laid down in Mitchell's case(2) could be applied, have  not been found as facts in the present case at any stage  of the proceedings and the High Court was in error  il) 6 I.\",\n",
       " 'T.',\n",
       " 'C.',\n",
       " 'H9.',\n",
       " '130 (~) [19271 I K.',\n",
       " 'B.',\n",
       " '719.',\n",
       " \"•  •  1018 SUPREME COURT REPORTS [1950]  1950 in applying the principles of Mitchell's case(1) on the  -.\",\n",
       " '-.',\n",
       " 'assumption of facts which were not proved.',\n",
       " 'The High  OomI missioner of Court was carried away, it seems, by the argument of  ncome~tax,  West Bengal the counsel and through error accepted the argument  v.',\n",
       " 'as facts.',\n",
       " 'Indeed, if it had noticed the contention  Calcutta Agenoy urged before the Income-tax Officer it would have seen  Ltd, at once that the argument was in a measure conflicting·  with that contention which was based on the foot- Kania a.',\n",
       " '1· ing of Rs.',\n",
       " '1,80,000 being a loan to the assessee on  which it had to pay interest, which was sought to be  deducted under section 10 (2) (iii) of the Income-tax  Act.',\n",
       " 'In our opinion.',\n",
       " 'therefore, this appeal should be  allowed on the simple ground that the facts necessary  to be established by the respondents to support their  claim for exemption under section 10 (2) (xv) of the  Indian Income-tax Act have not been established at  any stage of the proceedings and therefore they are  not entitled to the deduction claimed.',\n",
       " 'The appeal is  therefore allowed with costs here and before the High  Court.',\n",
       " 'Appeal allowed.',\n",
       " 'Agent for the appellant : P.',\n",
       " 'A.',\n",
       " 'Mehta.',\n",
       " 'Agent for the respondents: Ganpat Rai.',\n",
       " '(1) [19~1] 1 K.',\n",
       " 'B.',\n",
       " '719 .',\n",
       " \"• 'J'\"]"
      ]
     },
     "execution_count": 141,
     "metadata": {},
     "output_type": "execute_result"
    }
   ],
   "source": [
    "sentences"
   ]
  },
  {
   "cell_type": "code",
   "execution_count": 142,
   "metadata": {},
   "outputs": [
    {
     "name": "stdout",
     "output_type": "stream",
     "text": [
      "0\n"
     ]
    }
   ],
   "source": [
    "max_chunks=500\n",
    "current_chunk=0\n",
    "chunks=[]\n",
    "\n",
    "for sentence in sentences:\n",
    "    if len(chunks)==current_chunk+1:\n",
    "        if len(chunks[current_chunk]) + len(sentence.split(' ')) <=max_chunks:\n",
    "            chunks[current_chunk].extend(sentence.split(' '))\n",
    "        else:\n",
    "            current_chunk+=1\n",
    "            chunks.append(sentence.split(' '))\n",
    "    else:\n",
    "        print(current_chunk)\n",
    "        chunks.append(sentence.split(' '))"
   ]
  },
  {
   "cell_type": "code",
   "execution_count": 143,
   "metadata": {},
   "outputs": [],
   "source": [
    "for chunk_id in range (len(chunks)):\n",
    "    chunks[chunk_id]=' '.join(chunks[chunk_id])"
   ]
  },
  {
   "cell_type": "code",
   "execution_count": 144,
   "metadata": {},
   "outputs": [
    {
     "data": {
      "text/plain": [
       "['1950  Patntalal  Jankid-:u  v,  Mohanlal and  Another,  Pata1tjali  S11stri J. ! 950  Deo, 21. 1008 SUPREME COURT REPORTS [1950]  of section 14, it seems to me, they would be bringing  themselves under the bar of section 18 (2). The  respondents cannot therefore claim that the loss of the  goods was explosion damage within the meaning of the  Ordinance so as to bring the case within section 14 and  at the same time contend that the loss was not \"due  to or did not in any way arise ont of the explosion\" in  order to a void the bar under section 18. Both sec\\xad tion 14 and section 18 have in view the physical cause  for the loss or damage to property for which compen\\xad sation is claimed and not the cause of action in rela\\xad tion to the person against whom relief is sought. The  respondents cannot, in my opinion, be allowed to take  up inconsistent positions in order to bring themselves  within the one and to get out of the other. I would therefore allow the appeal and dismiss the  counter-claim. DAS J. agreed with the Chief Justice. Appeal dismissed. Agent for the appellants: Mohan Behari Lal. Agent for the respondents : I. N. Shroff. COMMISSIONER OF INCOME-TAX,  WEST BENGAL  v. CALCUTTA AGENCY LTD. [SHRI HARILAL KANIA CJ. , PATANJAL! SASTRI  and DAS JJ. ]  fo·li. tn Income-tax Act (XI of 1922), ss. 10 (2) (xv), 66-Refer\\xad ence-Jwrisdiction of High Ooilf·t-Duty to decide case ori facts  stated by Tribuna. l-Accepting arauments of CO\\'ltnsel as proved fa. cts  and basing decision on them, impropriety of-Business expenditnre\\xad Payments to avoid disclosure of misfeasance of director. ~-Burden of  prcof. The jurisdiction of the High Court in the matter of income\\xad tax references is an advisory jurisdiction and under the Inco:ne\\xad tax Act the decision of the Appellate Tribunal on facts is final  unless it can be successfully assailed on the ground tha~ there was ,_  S. C. R. SUPREME COURT REPORTS 1009  no evidence for the conclusions on facts recorded by the Tribnnal. 1950  It is therefore the duty of the High Court to start by looking at  tbe facts found by the Tribunal and ans~\\'e! : the questions of lHW Cornmiss:oritr of  on that footing. It is not p1·oper to depart fron1 this rule of law Incnme-tax,  as it will convert the High Court into a fact finding authority, Wcst Bengal  which it is not, under the advisory jurisdiction. v. As the statement of the case prepared by the Appellate Tri· Calcutta Ag•ncy  bunal in accordance v. \\'ith the rules fran1ed under the Income-tax Ltd.',\n",
       " \"Act is prepared with the knowledge of the parties concerned and  they have full opportunity to apply for any addition or deletion  from that statement, if they have approved of the state1nent n1ade  by the Tribunal, it iR the agreed etatement of facts by the parties  on w bich the Iligh Court has to pronouncs its judgment. The  High Court would be acting improperly if it takes the arguments  of the counsel for the assessee as if they were facts and bases its  conclusion on tboso arguments. One of the directors of the assessee company, acting in the  capacity of managing agents of certain l\\\\'fills, had dra\\\\vn some  hundis in the name of tho Mills, aod as the Mills repudiated lia\\xad bility, suits were filed on the hundis against the Mills and the  assessees. The assessees thereupon agreed to reimburse the Mills  by permitting the latter to deduct a moiety of the commission  pa. yable to them under the agreement of managing agency, against  payments which the Mills may have to make under the decrees. In their assessment fio income-tnx the assessees claimed that the  amounts so deducted should bo excluded from their asRessable  income as business cxpenditme under s. 10 (2) (xv) of tbe Income\\xad tax Act. The Appellate Tribunal found that the assessees had  agreed to pay off the decree a1nount from the remuneration due to  them, that the decre. e was passed against them evidently for some  misfeasance committed by their directors, that the books of both  companies showed that the assessees were paid their remunera\\xad tion in full, and that the expenditure was not therefore laid out  for the purpose of carrying on the business, and also that, as the  payment was made for the liquidation of a debt, it was not a  revenue expenditure. In the High Court the assessees' counsel  argued, relying on the case cf Mitchell v. B. W. Noble Ltd. (1),  that the payments were made by th• assessees to avoid the  publicity of an action against them and the consequent exposure  and loss of reputation as a. managing agency company, and as  such the payments were deductible as business expenditure. The  High Court accepted this argument and reversed the decision of  the Tribunal. Held, that the High Court acted wrongly in accepting the  argurr1ents of the assessees' counsel as if they were proved facts  and basing its decision on them ; and, as the facts necessary to  support the claim for exemption under s. 10 (2) (xv) had not been  established at any stage of the case, the assessees were not entitled  to the deduction cJ. imed. (11 (1927] l K. B. 719,  1~9  •  1010 SUPREME COURT REPORTS [1950)  1950 Judgment of the Calcutta High Court reversed. 0 . .\",\n",
       " '/ APPELLATE JumsDICTION : Civil Appeal No. 59 of onimissioner o  1\"come-tax, 1950. West Bengal Appeal from a Judgment of the High Court of Judi- v. cature at Calcutta (Harries C. J. and Chatterjea J. )  Galcu~~/Y\\'\"\\'Y dated 9th Septern ber, 1949, in a reference under  · section 66 (2) of the Indian Income-tax Act, 1922. (Reference No. 8 of 1949). M. C. Setalvad, Attorney-General for India (G. N. ] oshi, with him) for the appellant. S. Mitra (B. Banerjee, with him) for the respond\\xad ents. 1950. December 21. The Judgment of the Court  was delivered by  Kan•a o. J. KANIA C. J. -This is an appeal from the judgment  of the High Court at Calcutta (Harries C. J. and  Chatterjea J. ) pronounced on a reference made to it  by the Income. tax Tribunal under section 66 (2) of  the Indian Income. tax Act. The relevant facts are  these. The respondents are a private limited company  which was brought into existence to float various  companies including cotton mills. In November, 1932,  the Basanti Cotton Mills Ltd. was incorporated and  the respondents were appointed their managing agents. Their remuneration was fixed at a monthly allowance  of Rs. 500 and a commission of 3 per cent. on all gross  sales of goods manufactured by the Mills Company. The fixed monthly allowance was liable to be increased  in the event of the capital of the company being  increased. The details are immaterial. lt appears  that certain hundis were drawn by one of the directors  of the respondent company, acting in the capacity of  the managing agents of the :Mill Company, in the name  of the Mill Company and the same were negotiated to  others. The Nath Bank Ltd. claimed payment of  these hundis. The Mill Company repudiated its  liability as it appeared from the books of the Mill  Company that they had not the use of the sum of  Rs. 1. 80,000 claimed by the Nath Bank Ltd. under  the hundis. The Nath Bank Ltd. instituted four suits ·I\\'  •  S. C. R. SUPREME COURT REPORTS 1011  against the Mill Company, in two of which the res-1950  pondent company were party-defendants. The Mill Comm;:. ;;;n. ,· of  Company was advised to settle the suits and the res-Incom•·ta:r:. pondent company entered into an agreement with the w . . t Bengal  Mill Company, the material part of the terms of which •. rnns as follows ·- Calcutta Agency  • Ltd. \" Memorandum of Agreement made between the  Calcutta Agency Limited of the one part and Basanti Kama c. J. Cotton Mills Ltd. of the other part. \\\\;\\\\/HEREAS the  Nath Bank Limited demanded from the Mills the  payment of the sum of Rs.',\n",
       " '1,80,000 and interest there- on AND WHEREAS the said Mills repudiated their  liability in respect thereof as it appeared from the  books of the said Mills that the said Mills did not have  the use of the said sum of Rs. 1,80 000 or any part there- of AND WHEREAS the said Nath Bank Ltd. there- upon instituted four suits in High Court being suit  Nos. 1683, 1720, 1735 and 1757 of 1939 for the said  aggregate sum of Rs. 1,80,000 and the interest thereon  AND WHEREAS the said Mills have been advised to  settle the said suits amicably AND WHEREAS the  Calcutta Agency Limited by its Directors, S. N. Mitter  or S. C. Mitter, having been and being still the Manag- ing Agents of the said Mills have undertaken to  reimburse the said Mills in respect of the decrees to oe  made in the said four suits in the manner hereinafter  appearing NOW THESE PRESENTS WITNESS  AND IT IS HEREBY AGREED AND DECLARED  (i) That out of the commission of 3% payable by  the said Mills to the said Agency under Regulation 131  of the Articles of Association of the Company, the  Company shall have paramount lien on and deduct  and set off a moiety thereof against any payment  which the said Mills may make in respect of the decrees  or any of them and/or costs of the said suits. (ii) The said moiety shall be one half of the  commission so payable less such sum as the Directors  of the Mills may from time to time allow to be  deducted. \"  . . Under the said agreement, the respondent company  paid to the Mill Company Rs. 22,500 made up of  •  1012 SUPREME COURT REPORTS [1950]  t9oO Rs. 18,107 as principal and Rs. 4,393 as interest in the  0 -:--:-1accounting year. The assessee company claimed this omm1ssioner o . Incomo-ta:c before the Income-tax Appellate Tribunal as a deduc- Weat Benadi tion permitted under section IO (2) (xv) of the Indian  v. Income-tax Act. The relevant part of that section  Calcutta Agency runs as follows :- Ltd. \"10. (1) \"The tax shall be payable by an assessee  Kania o. J. under the head \\'Profits and gains of business, pro\\xad fession or vocation\\' in respect of the profits or gains of  any bminess, profession or vocation carried on by  him. (2) Such profits or gains shall be computed after  making the following allowances, namely:- . . . . . . . . . . . . . . . . . . . . . . . . . . . . . . . . . . . .',\n",
       " '(xv) any expenditure (not being in the nature  of capital expenditure or personal expenses of the  assessee) laid out or expended wholly and exclusively  for the purpose of such business, profession or voca\\xad tion. \"  In the statement of the case submitted by the  Tribunal after reciting the fact of the incorporation of  the company and the terms of the compromise mention\\xad ed above, the arguments urged on behalf of the assessee  company have been recapitulated. The first argument  was that under the first proviso to section 7 of the  Indian Income-tax Act, this payment was liable to be  exempted. The Tribunal rejected that argument. On  the reference, the High Court also rejected the same  and it was not presented before us. The next argu\\xad ment of the respondents was that in respect of  Rs. 22,500 it was entitled to exemption under section  10(2) (xv) of the Income-tax Act on the ground that  the payment was an expenditure which was not in the  nature of a capital expenditure or personal expenses of  the applicant company but was an expenditure laid  out wholly and exclusively for the purpose of its busi\\xad ness. They urged that if the applicant company did  not agree to pay this amount, Basanti Cotton Mills  Ltd. could have brought a suit against the company  to realise this amount due on the hundis which would •  . . -•  S. C. R. SUPREME COURT REPORTS 1013  have exposed the applicant company to the public and 1950  in order to save themselves from the scandal and main- tain the managing agency they agreed to the deduction Commissioner of  of certain amounts from the managing agency commis. 1\"come-ta•,  sion due to it and thereby brought it within the West ,Bengal  principles of the decision of 1Vlitchell v. B. W. Noble Oalcutt. \"Agency  Ltd. (1) The Tribunal found as facts: (1) That the Ltd. applicant company agreed to pay off the decretal  amount from the remuneration which they are entitled K. ,nia o. J. to get from the Basanti Cotton Mills. (2) The decree  was passed against the applicant company evidently  for certain misfeasance committed by its directors and  the applicant company agreed to pay it off from its  remuneration. (3) The books of account of Basanti  Cotton Mills Ltd. would show that they were paying  the applicant company in full its remuneration and  the books of the applicant company also show that it  was entitled to its remuneration in full. (4) In the  circumstances the Tribunal held that the expenditure  was not laid out wholly and exclusively for the purpose  of carrying on the business. (5) Besides, the Tribunal  was of the opinion that in this case it was not a  revenue expenditure at all.',\n",
       " 'As the payment had to  be made towards liquidation of the decretal amount  the Tribunal held, in the circumstances of this case,  that it was a capital payment. On behalf of the res- pondent it was argued in the further alternative that  the Privy Council decision in Raja Bijoy Singh  Dudhuria\\'s easel. \\') would cover the present case. That  contention was rejected by the Tribunal. This statement of the case prepared by the Income\\xad tax Tribunal and submitted to the High Court for its  opinion was perused by the parties and they had no  suggestions to make in respect of the same. The state\\xad ment of the case was thus settled with the knowledge  and approval of the parties. When the matter came  before the High Court, Mr. Mitra, who argued the case  for the present respondents, as shown by the judgment  of the High Court, urged as follows:-\" If the applicant  company had not agreed to pay the amount mentioned  i 1l [J 921) 1 R. B. 719. 12) 61. T,C. 449,  •  1014 SUPREME COURT REPORTS [1950]  1950 in the aforesaid agreement, then the Basanti Cotton  Mills Ltd. would have sued the company for the reali\\xad Oommi\"\\'•\"\"\\' of sation of the amounts due on the hundis and it seems  Incom•·tax, that there would have been no defence to the action. West Bengal T . Jd h b\\' d th l\\' t t v his wou ave su iecte e app ican company o  Oa! cutt. \"Ag•ncy the danger of public exposure and in order to save  Ltd. itself from the scandal and in order to maintain the  managing agency, the applicant company agreed to  Kania o. J. deduct certain amounts from the managing agency  commission and therefore such expenditure came with\\xad in section 10(2) (xv) of the Act. \" The High Court  thereafter noticed several cases including 111 itchell\\' s  case(\\') and towards the close of the judgment delivered  by Chatterjea J. observed as follows:-\"In this case it  is clear that the agreement was entered into with a view  to avoid the publicity of an action against the mana\\xad ging agents and consequent exposure and scandal and  in order to maintain the managing agency so that the  company could carry on its business as before. The  payment in question did not bring in any new assets  into existence nor in my opinion can it properly be  said that it brought into existence an advantage for the  enduring benefit of the company\\'s trade. The Appellate  Tribunal observed that the decree was evidently passed  against the appellant company for certain misfeasance by  its directors and the appellant company agreed to pay  it off from its remuneration . . . . . . The object of the agree.',\n",
       " 'ment was to enable the company to remove a defect in  carrying on the business of the company and to earn  profits in its business. Therefore this case is covered  by the judgment of the Court of Appeal in Mitchell\\'s  case(\\') . . . . . . \" Applying this line of reasoning the High  Court differed from the conclusion of the Tribunal and  allowed the deduction to the respondent company under  section 10(2) (xv) of the Income-tax Act, as claimed by  the respondents. The Commissioner of Income. tax,  West Bengal, has come in appeal to us. Now it is clear that this being a claim for exemption  of an amount, contended to be an expenditure falling  under section 10(2)(xv), the burden of proving the  (l) [1927] l K. B. 719. . . . . . •  S. C. R. SUPREME COURT REPORTS 1015  necessary facts in that connection was on the assessee, 1950  it being common ground that the commission was due -:--:- and had become payable and was therefore the business cc7m\"\"0;\\'\" of  income of the assessee company liable to be taxed in ,;. ::m;;:;:. 1 the assessment year. The jurisdiction of the High Court v. in the matter of income-tax references is an advisory Calcutta Agency  jurisdiction and under the Act the decision of the Ltd. Tribunal on facts is final, unless it can be successfully  Ka1ita C. J, assailed on the ground that there was no evidence for  the conclusions on facts recorded by the Tribunal. It  is therefore the duty of the High Court to start by  looking at the facts found by the Tribunal and answer  the questions of law on that footing. Any departure  from this rule of law will convert the High Court into  a fact-finding authority, which it is not under the  advisory jurisdiction. The statement of the case under  the rules framed under the Income-tax Act is prepared  with the knowledge of the parties concerned and they  have a full opportunity to apply for any addition or  deletion from that statement of the case. If they  approved of that statement that is the agreed state. ment of facts by the parties on which the High  Court has to pronounce its judgment. In the present  case the parties perused the statement of case and as  disclosed by the note made at the end of it had no sug- gestions to make in respect thereof. It is therefore clear  that it was the duty of the High Court to start with  that statement of the case as the final statement of  facts. Surprisingly, we find that the High Court, in  its judgment, has taken the argument of Mr. Mitra as  if they were facts and have based their conclusion  solely on that argument.',\n",
       " 'Nowhere in the statement  of the case prepared by the Tribunal and filed in the  High Court, the Tribunal had come to the conclusion  that the payment was made by the assessee company  to avoid any danger of public exposure or to save itself  from scandal or in order to maintain the managing  agency of the appellant company. The whole con- clusion of the High Court is based on this unwarranted  assumption of facts which are taken only from the  argument of counsel for the present respondents before  •  •  1016 SUPREME COURT REPORTS [1950)  1950 the High Court. The danger of failing to recognise  -. -. that the jurisdiction of the High Court in these matters  Commm•onu of· l d · d 1 l · f J T \\'b 1  1 · t \" is on y a v1sory an t ie cone uswns o t ie n una  ;,;:;m;~:a~z on facts are the conclusions on which the High Conrt  v, is to exercise such advisory jurisdiction is illustrated  Oa\\'cutta Agency by this case. It seems that unfortunately counsel for  Ltd. the respondents caught hold of Mitchell\\'s case(1) and  -basing his argument on the circumstances under which Ka,zia 0. J. d a payment could be escribed as a business expenditure  falling within the terms of section 10 (2) (xv), argued  that the facts in the present case were the same. Instead of first ascertaining what were the facts found  by the Tribunal in the present case, the process was  reversed and the procedure adopted was to take Mit\\xad chell\\'s case(1) as the law and argue that the facts in the  present case covered the situation. In our opinion  this is an entirely wrong approach and should not  have been permitted by the High Court. The High  Court fell into a grave error in omitting first to ascer\\xad tain what were the facts found in the case stated by the  Tribunal. The High Court overlooked that in Afitchell\\'s  case(\\') the whole discussion started with a quotation  from the case stated by the Commissioners as the facts  of the case. A scrutiny of the record in the present case shows  that before the Income-tax Officer the assessees  claimed only a deduction of the interest of Rs. 5,582  as a permissible deduction under section 10 (2) (iii) of  the Income-tax Act. That claim was rejected by the  Income-tax Officer. When the matter went to the  Assistant Income-tax Commissioner it was argued that  the Income-tax Officer was in error in not allowing the  deduction of interest and was also wrong in not allowing  the entire sum of Rs. 22,500 as a deduction on the  ground that, that portion of the income (viz. , Rs . .',\n",
       " '\\'22,500)  should be treated as not earned or deemed to be earned  by the assessees at all, having regard to the decision  of the Privy Council in Raja Bijoy Singh Dudhuria\\'s  case. (\\') The first paragraph of the order of the Appellate  Assistant Commissioner contains the following  (ll [1927) I K, B. 719. 12) 6 I. T. C. \\'49,  • •  \\'  . . •  S. C. R. SUPREME COURT REPORTS l017  statement:-\" In disallowing this (interest) claim the 1950  Income-tax Officer was following the decision of my . -- predecessor in his order dated the 18th March 1942 in Oommimoner 0! Appeal No. _ 1-~-~ 1 of. 1941-42. My predecessor obser- ~:~·;;~~~1 •  ved: \"Nothmg 1s m evidence to show that the managmg v. agency company had surplus money and such money Calcutta Ag••cv  · was invested or that there was any need to borrow. Ltd. Thus the need to borrow is not established. There is  no doubt that money was borrowed but lmless it can Kania c. J. to proved that the borrowing is for the purpose of the  business and the loan was u:sed in the business, the  interest cannot be allowed under section 10(2)(iii). \"  The second objection raised before the Appellate  Assistant Commissioner was in these terms:-·\\' That  the Income-tax Officer should have allowed the said sum  of Rs. 22,500 as allowable expenditure being alloca\\xad tion of a sum out of the revenue receipt before it became  income in the hands of the assessee. \" The wording of  the objection and the argument noticed in the order of  the Appellate Assistant Commissioner show that the  contention was that this sum should be treated as not  having become the income of the assessee at all because  it was deducted at the source by the Mill company. Reliance was placed for this contention on Raja Bijoy  Singh Dudhuria\\'s case(\\'). The contention was· rejected. At the third stage, when the assessee urged his conten\\xad tions before the Income Tax Appellate Tribunal, he  thought of urging as an argument that this was a per\\xad missible deduction under section 10 (2) (xv) because of  the principles laid down in Mitchell\\'s case(2). No  evidence, it appears, was led before the Income Tax  Tribunal, nor has the Tribunal recorded any findings  of fact on which the principles laid down in Mitchell\\'s  case(\\') could be applied. The Tribunal\\'s conclusions of  facts were only as summarized in the earlier part of  the judgment. It is therefore clear that the necessary  facts required to be established before the principles  laid down in Mitchell\\'s case(2) could be applied, have  not been found as facts in the present case at any stage  of the proceedings and the High Court was in error  il) 6 I. T.',\n",
       " \"C. H9. 130 (~) [19271 I K. B. 719. •  •  1018 SUPREME COURT REPORTS [1950]  1950 in applying the principles of Mitchell's case(1) on the  -. -. assumption of facts which were not proved. The High  OomI missioner of Court was carried away, it seems, by the argument of  ncome~tax,  West Bengal the counsel and through error accepted the argument  v. as facts. Indeed, if it had noticed the contention  Calcutta Agenoy urged before the Income-tax Officer it would have seen  Ltd, at once that the argument was in a measure conflicting·  with that contention which was based on the foot- Kania a. 1· ing of Rs. 1,80,000 being a loan to the assessee on  which it had to pay interest, which was sought to be  deducted under section 10 (2) (iii) of the Income-tax  Act. In our opinion. therefore, this appeal should be  allowed on the simple ground that the facts necessary  to be established by the respondents to support their  claim for exemption under section 10 (2) (xv) of the  Indian Income-tax Act have not been established at  any stage of the proceedings and therefore they are  not entitled to the deduction claimed. The appeal is  therefore allowed with costs here and before the High  Court. Appeal allowed. Agent for the appellant : P. A. Mehta. Agent for the respondents: Ganpat Rai. (1) [19~1] 1 K. B. 719 . • 'J'\"]"
      ]
     },
     "execution_count": 144,
     "metadata": {},
     "output_type": "execute_result"
    }
   ],
   "source": [
    "chunks"
   ]
  },
  {
   "cell_type": "code",
   "execution_count": 145,
   "metadata": {},
   "outputs": [
    {
     "data": {
      "text/plain": [
       "471"
      ]
     },
     "execution_count": 145,
     "metadata": {},
     "output_type": "execute_result"
    }
   ],
   "source": [
    "len(chunks[0].split(' '))"
   ]
  },
  {
   "cell_type": "markdown",
   "metadata": {},
   "source": [
    "### Summarizer"
   ]
  },
  {
   "cell_type": "code",
   "execution_count": 146,
   "metadata": {},
   "outputs": [],
   "source": [
    "from transformers import pipeline"
   ]
  },
  {
   "cell_type": "code",
   "execution_count": 147,
   "metadata": {},
   "outputs": [
    {
     "name": "stderr",
     "output_type": "stream",
     "text": [
      "No model was supplied, defaulted to sshleifer/distilbart-cnn-12-6 and revision a4f8f3e (https://huggingface.co/sshleifer/distilbart-cnn-12-6).\n",
      "Using a pipeline without specifying a model name and revision in production is not recommended.\n"
     ]
    }
   ],
   "source": [
    "summarizer=pipeline('summarization')"
   ]
  },
  {
   "cell_type": "code",
   "execution_count": 148,
   "metadata": {},
   "outputs": [],
   "source": [
    "res=summarizer(chunks, max_length=120, min_length=30, do_sample=False)"
   ]
  },
  {
   "cell_type": "code",
   "execution_count": 149,
   "metadata": {},
   "outputs": [
    {
     "data": {
      "text/plain": [
       "[{'summary_text': \" Appeal dismissed by the High Court in the matter of income\\xad tax references is an advisory jurisdiction . It is not p1-oper to depart fron1 this rule of law Incnme-tax, as it will convert the High . Court to start by looking at facts found by the Tribunal and ans~'e! : the questions of lHW Cornmiss:oritr of  on that footing .\"},\n",
       " {'summary_text': ' The Calcutta High Court reversed the decision of the Appellate Tribunal . The assessees had agreed to pay off the decree a1nount from the remuneration due to them, that the decree was passed against them evidently for misfeasance committed by their directors . The High Court accepted this argument and reversed the . decision of  the Tribunal .'},\n",
       " {'summary_text': ' Appeal from a Judgment of the High Court of Judi- v. cature at Calcutta (Harries C. J. and Chatterjea J. )  Galcu~~/Y\\'\"\\'Y dated 9th Septern ber, 1949, in a reference under section 66 (2) of the Indian Income-tax Act, 1922 .'},\n",
       " {'summary_text': ' Nath Bank Ltd. instituted four suits in High Court being suit  Nos. 1683, 1720, 1735 and 1757 of 1939 for the aggregate sum of Rs. 1,80,000 and interest there- on . Nath bank Ltd. there-upon instituted four suit being suit Nos.1683,1720,1735,1757 . Calcutta Agency Limited agreed to reimburse the Mills in respect of the decrees to oe  made in the said four suits .'},\n",
       " {'summary_text': ' Basanti Cotton Mills Ltd. Ltd. agreed to pay off the decretal amount from the remuneration which they are entitled K.N. J. to get from the company . Tribunal held that the payment was not laid out wholly and exclusively for the purpose of carrying on the business . Tribunal found as facts: (1) That the . applicant company . agreed to the deduction Commissioner of  certain amounts from the managing agency commisis. due to it .'},\n",
       " {'summary_text': \" West Bengal T . Jd h b' d th l' t t v his wou ave su iecte e app ican company o  Oa! cutt . The High Court said that the agreement was entered into with a view  to avoid publicity of an action against the mana\\xad ging agents and consequent exposure .\"},\n",
       " {'summary_text': ' High Court allowed deduction to respondent company under section 10(2) (xv) of Income-tax Act . Decision of the Ltd. Tribunal on facts is final, unless it can be successfully . Ka1ita C. J, assailed on the ground that there was no evidence for the conclusions on facts recorded by the Tribunal .'},\n",
       " {'summary_text': \" The High Court fell into a grave error in omitting first to ascer\\xad tain what were the facts found in the case stated by the Tribunal in the present case, the process was reversed and the procedure adopted was to take Mit\\xad chell's case as the law and argue that the facts in the  present case covered the situation .\"},\n",
       " {'summary_text': \" Appeal No. 1-~-~ 1 of 1941-42. Raja Bijoy Singh Dudhuria's case was rejected by the Privy Council . The High Court was in error, the High Court said .\"},\n",
       " {'summary_text': ' Mitchell v. West Bengal v. Calcutta Agenoy v. Kania a. 1,80,000 was a loan to the assessee on  which it had to pay interest, which was sought to be deducted under section 10 (2) (iii) of the Income-tax  Act .'}]"
      ]
     },
     "execution_count": 149,
     "metadata": {},
     "output_type": "execute_result"
    }
   ],
   "source": [
    "res"
   ]
  },
  {
   "cell_type": "code",
   "execution_count": 150,
   "metadata": {},
   "outputs": [],
   "source": [
    "text=' '.join([sum['summary_text'] for sum in res])"
   ]
  },
  {
   "cell_type": "code",
   "execution_count": 151,
   "metadata": {},
   "outputs": [
    {
     "data": {
      "text/plain": [
       "2923"
      ]
     },
     "execution_count": 151,
     "metadata": {},
     "output_type": "execute_result"
    }
   ],
   "source": [
    "len(text)"
   ]
  },
  {
   "cell_type": "code",
   "execution_count": 152,
   "metadata": {},
   "outputs": [
    {
     "data": {
      "text/plain": [
       "' Appeal dismissed by the High Court in the matter of income\\xad tax references is an advisory jurisdiction . It is not p1-oper to depart fron1 this rule of law Incnme-tax, as it will convert the High . Court to start by looking at facts found by the Tribunal and ans~\\'e! : the questions of lHW Cornmiss:oritr of  on that footing .  The Calcutta High Court reversed the decision of the Appellate Tribunal . The assessees had agreed to pay off the decree a1nount from the remuneration due to them, that the decree was passed against them evidently for misfeasance committed by their directors . The High Court accepted this argument and reversed the . decision of  the Tribunal .  Appeal from a Judgment of the High Court of Judi- v. cature at Calcutta (Harries C. J. and Chatterjea J. )  Galcu~~/Y\\'\"\\'Y dated 9th Septern ber, 1949, in a reference under section 66 (2) of the Indian Income-tax Act, 1922 .  Nath Bank Ltd. instituted four suits in High Court being suit  Nos. 1683, 1720, 1735 and 1757 of 1939 for the aggregate sum of Rs. 1,80,000 and interest there- on . Nath bank Ltd. there-upon instituted four suit being suit Nos.1683,1720,1735,1757 . Calcutta Agency Limited agreed to reimburse the Mills in respect of the decrees to oe  made in the said four suits .  Basanti Cotton Mills Ltd. Ltd. agreed to pay off the decretal amount from the remuneration which they are entitled K.N. J. to get from the company . Tribunal held that the payment was not laid out wholly and exclusively for the purpose of carrying on the business . Tribunal found as facts: (1) That the . applicant company . agreed to the deduction Commissioner of  certain amounts from the managing agency commisis. due to it .  West Bengal T . Jd h b\\' d th l\\' t t v his wou ave su iecte e app ican company o  Oa! cutt . The High Court said that the agreement was entered into with a view  to avoid publicity of an action against the mana\\xad ging agents and consequent exposure .  High Court allowed deduction to respondent company under section 10(2) (xv) of Income-tax Act . Decision of the Ltd. Tribunal on facts is final, unless it can be successfully . Ka1ita C. J, assailed on the ground that there was no evidence for the conclusions on facts recorded by the Tribunal .  The High Court fell into a grave error in omitting first to ascer\\xad tain what were the facts found in the case stated by the Tribunal in the present case, the process was reversed and the procedure adopted was to take Mit\\xad chell\\'s case as the law and argue that the facts in the  present case covered the situation .  Appeal No. 1-~-~ 1 of 1941-42. Raja Bijoy Singh Dudhuria\\'s case was rejected by the Privy Council . The High Court was in error, the High Court said .  Mitchell v. West Bengal v. Calcutta Agenoy v. Kania a. 1,80,000 was a loan to the assessee on  which it had to pay interest, which was sought to be deducted under section 10 (2) (iii) of the Income-tax  Act .'"
      ]
     },
     "execution_count": 152,
     "metadata": {},
     "output_type": "execute_result"
    }
   ],
   "source": [
    "text"
   ]
  },
  {
   "cell_type": "markdown",
   "metadata": {},
   "source": [
    "### Metrics"
   ]
  },
  {
   "cell_type": "markdown",
   "metadata": {},
   "source": [
    "#### ROUGE"
   ]
  },
  {
   "cell_type": "code",
   "execution_count": 153,
   "metadata": {},
   "outputs": [
    {
     "name": "stdout",
     "output_type": "stream",
     "text": [
      "{'rouge1': Score(precision=0.07735849056603773, recall=0.2645161290322581, fmeasure=0.1197080291970803), 'rouge2': Score(precision=0.005671077504725898, recall=0.01948051948051948, fmeasure=0.008784773060029283), 'rougeL': Score(precision=0.05849056603773585, recall=0.2, fmeasure=0.0905109489051095)}\n"
     ]
    }
   ],
   "source": [
    "\n",
    "from rouge_score import rouge_scorer\n",
    "\n",
    "# Example summaries\n",
    "generated_summary = text\n",
    "reference_summary = reference_summary\n",
    "scorer = rouge_scorer.RougeScorer(['rouge1', 'rouge2', 'rougeL'], use_stemmer=True)\n",
    "scores = scorer.score(reference_summary, generated_summary)\n",
    "\n",
    "print(scores)\n"
   ]
  },
  {
   "cell_type": "code",
   "execution_count": 154,
   "metadata": {},
   "outputs": [
    {
     "name": "stdout",
     "output_type": "stream",
     "text": [
      "rouge1:\n",
      "  Precision: 0.0774\n",
      "  Recall: 0.2645\n",
      "  F-measure: 0.1197\n",
      "\n",
      "rouge2:\n",
      "  Precision: 0.0057\n",
      "  Recall: 0.0195\n",
      "  F-measure: 0.0088\n",
      "\n",
      "rougeL:\n",
      "  Precision: 0.0585\n",
      "  Recall: 0.2000\n",
      "  F-measure: 0.0905\n",
      "\n"
     ]
    }
   ],
   "source": [
    "# Loop through each ROUGE score and print its values\n",
    "for key, score in scores.items():\n",
    "    print(f\"{key}:\")\n",
    "    print(f\"  Precision: {score.precision:.4f}\")\n",
    "    print(f\"  Recall: {score.recall:.4f}\")\n",
    "    print(f\"  F-measure: {score.fmeasure:.4f}\\n\")"
   ]
  },
  {
   "cell_type": "markdown",
   "metadata": {},
   "source": [
    "#### BLEU"
   ]
  },
  {
   "cell_type": "code",
   "execution_count": 155,
   "metadata": {},
   "outputs": [
    {
     "name": "stdout",
     "output_type": "stream",
     "text": [
      "BLEU score with smoothing: 0.0023\n",
      "BLEU score (unigrams with smoothing): 0.1063\n",
      "BLEU score (bigrams with smoothing): 0.0086\n",
      "BLEU score (trigrams with smoothing): 0.0002\n",
      "BLEU score (4-grams with smoothing): 0.0002\n"
     ]
    }
   ],
   "source": [
    "import nltk\n",
    "from nltk.translate.bleu_score import sentence_bleu, SmoothingFunction\n",
    "\n",
    "# Sample reference text\n",
    "reference_text = reference_summary\n",
    "\n",
    "# Sample generated text from your model\n",
    "generated_text = text\n",
    "\n",
    "# Tokenize the reference and generated texts\n",
    "reference = [nltk.word_tokenize(reference_text.lower())]  # List of reference sentences\n",
    "generated = nltk.word_tokenize(generated_text.lower())\n",
    "\n",
    "# Use a smoothing function\n",
    "smoothie = SmoothingFunction()\n",
    "\n",
    "# Calculate BLEU score with smoothing for all n-gram orders\n",
    "bleu_score = sentence_bleu(reference, generated, smoothing_function=smoothie.method1)\n",
    "print(f\"BLEU score with smoothing: {bleu_score:.4f}\")\n",
    "\n",
    "# Calculate BLEU score for unigrams, bigrams, trigrams, and 4-grams with smoothing\n",
    "bleu_score_unigrams = sentence_bleu(reference, generated, weights=(1, 0, 0, 0), smoothing_function=smoothie.method1)\n",
    "bleu_score_bigrams = sentence_bleu(reference, generated, weights=(0, 1, 0, 0), smoothing_function=smoothie.method1)\n",
    "bleu_score_trigrams = sentence_bleu(reference, generated, weights=(0, 0, 1, 0), smoothing_function=smoothie.method1)\n",
    "bleu_score_4grams = sentence_bleu(reference, generated, weights=(0, 0, 0, 1), smoothing_function=smoothie.method1)\n",
    "\n",
    "print(f\"BLEU score (unigrams with smoothing): {bleu_score_unigrams:.4f}\")\n",
    "print(f\"BLEU score (bigrams with smoothing): {bleu_score_bigrams:.4f}\")\n",
    "print(f\"BLEU score (trigrams with smoothing): {bleu_score_trigrams:.4f}\")\n",
    "print(f\"BLEU score (4-grams with smoothing): {bleu_score_4grams:.4f}\")\n"
   ]
  },
  {
   "cell_type": "code",
   "execution_count": null,
   "metadata": {},
   "outputs": [],
   "source": []
  }
 ],
 "metadata": {
  "kernelspec": {
   "display_name": "myenv",
   "language": "python",
   "name": "python3"
  },
  "language_info": {
   "codemirror_mode": {
    "name": "ipython",
    "version": 3
   },
   "file_extension": ".py",
   "mimetype": "text/x-python",
   "name": "python",
   "nbconvert_exporter": "python",
   "pygments_lexer": "ipython3",
   "version": "3.8.18"
  }
 },
 "nbformat": 4,
 "nbformat_minor": 2
}
