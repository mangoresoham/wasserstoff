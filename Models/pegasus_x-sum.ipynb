{
 "cells": [
  {
   "cell_type": "code",
   "execution_count": 24,
   "metadata": {},
   "outputs": [],
   "source": [
    "import os\n",
    "import math\n",
    "import PyPDF2\n",
    "from transformers import T5ForConditionalGeneration, T5Tokenizer\n",
    "from concurrent.futures import ProcessPoolExecutor"
   ]
  },
  {
   "cell_type": "markdown",
   "metadata": {},
   "source": [
    "### File Ingestion"
   ]
  },
  {
   "cell_type": "code",
   "execution_count": 25,
   "metadata": {},
   "outputs": [
    {
     "name": "stdout",
     "output_type": "stream",
     "text": [
      "1950 \n",
      "Patntalal \n",
      "Jankid-:u \n",
      "v, \n",
      "Mohanlal and \n",
      "Another, \n",
      "Pata1tjali \n",
      "S11stri J. \n",
      "!950 \n",
      "Deo, 21. 1008 SUPREME COURT REPORTS [1950] \n",
      "of section 14, it seems to me, they would be bringing \n",
      "themselves under the bar of section 18 (2). The \n",
      "respondents cannot therefore claim that the loss of the \n",
      "goods was explosion damage within the meaning of the \n",
      "Ordinance so as to bring the case within section 14 and \n",
      "at the same time contend that the loss was not \"due \n",
      "to or did not in any way arise ont of the explosion\" in \n",
      "order to a void the bar under section 18. Both sec­\n",
      "tion 14 and section 18 have in view the physical cause \n",
      "for the loss or damage to property for which compen­\n",
      "sation is claimed and not the cause of action in rela­\n",
      "tion to the person against whom relief is sought. The \n",
      "respondents cannot, in my opinion, be allowed to take \n",
      "up inconsistent positions in order to bring themselves \n",
      "within the one and to get out of the other. \n",
      "I would therefore allow the appeal and dismiss the \n",
      "counter-c\n"
     ]
    }
   ],
   "source": [
    "import PyPDF2\n",
    "\n",
    "# Function to extract text from PDF using PyPDF2\n",
    "def extract_text_from_pdf(file_path):\n",
    "    text = ''\n",
    "    with open(file_path, 'rb') as file:\n",
    "        pdf_reader = PyPDF2.PdfReader(file)\n",
    "        for page_num in range(len(pdf_reader.pages)):\n",
    "            page = pdf_reader.pages[page_num]\n",
    "            text += page.extract_text()\n",
    "    return text\n",
    "\n",
    "# Example usage\n",
    "pdf_file_path = \"D:\\Programming\\Projects\\WASSERSTOFF\\Data\\pdf1.pdf\"  # Replace with your PDF file path\n",
    "document_text = extract_text_from_pdf(pdf_file_path)\n",
    "\n",
    "# Check the extracted text\n",
    "print(document_text[:1000])  # Print first 1000 characters\n"
   ]
  },
  {
   "cell_type": "code",
   "execution_count": 26,
   "metadata": {},
   "outputs": [],
   "source": [
    "# document_text=\"\"\"\n",
    "# In a world increasingly defined by technology, the relationship between humans and machines has become a focal point of discussion across various domains. The advent of artificial intelligence (AI) has reshaped industries, impacting everything from healthcare to finance, education to entertainment. With the integration of AI in daily life, there emerges a profound question: what does it mean to be human in an age where machines can replicate cognitive functions? This question is particularly relevant in the realm of healthcare, where AI systems are not only assisting doctors in diagnosing diseases but also in predicting patient outcomes based on vast datasets. As a result, the medical community is witnessing a shift in how care is delivered; physicians are now seen as guides who interpret AI-generated insights rather than sole decision-makers. This paradigm shift has its proponents and critics. Advocates argue that AI enhances human capabilities, allowing for more accurate diagnoses and personalized treatment plans. They cite examples of AI systems that analyze medical images with a precision that rivals expert radiologists, thus improving early detection rates of conditions like cancer. On the other hand, critics voice concerns regarding the ethical implications of relying too heavily on machines, fearing that this could undermine the human touch that is integral to patient care. They point out the risk of data bias, as AI systems trained on historical data may perpetuate existing inequalities in healthcare delivery. Moreover, there are apprehensions about patient privacy, as the use of sensitive health data raises questions about who owns this information and how it is used. As healthcare continues to evolve in this direction, the dialogue surrounding the intersection of technology and human experience becomes even more critical. Moving beyond healthcare, the influence of AI permeates other sectors such as finance, where algorithms determine credit scores and assess loan applications. The automation of these processes promises efficiency and speed, yet it also poses significant challenges. For instance, the opaque nature of algorithmic decision-making can lead to a lack of accountability, making it difficult for individuals to understand why they were denied a loan or insurance coverage. In response, policymakers are grappling with the need to regulate AI to ensure fairness and transparency. The challenge lies in striking a balance between innovation and safeguarding the rights of individuals, a debate that reflects broader societal concerns about the pace of technological advancement. In the realm of education, AI offers tools for personalized learning experiences, adapting curricula to meet the unique needs of each student. This potential for customization is promising, particularly for learners who may struggle in traditional educational settings. However, the reliance on technology raises questions about equity, as not all students have equal access to the necessary tools and resources. The digital divide becomes apparent, highlighting disparities that exist within and between communities. As educators explore the integration of AI in classrooms, they must also consider how to ensure that all students benefit from these innovations. In the creative industries, AI is reshaping the landscape of art, music, and literature. Tools powered by AI are now capable of generating original works, blurring the lines between human creativity and machine-generated content. This evolution prompts discussions about authorship and originality. If a machine creates a piece of art, who is the true artist? Furthermore, the rise of deepfakes and AI-generated media has raised ethical concerns about misinformation and the manipulation of public perception. As technology continues to advance, society faces the dual challenge of embracing innovation while mitigating its risks. The overarching theme across these sectors is the need for a thoughtful approach to AI integration, one that considers the ethical, social, and economic implications of these powerful technologies. The dialogue surrounding AI is not merely academic; it has real-world consequences that affect individuals, communities, and global dynamics. As we stand on the precipice of a future increasingly influenced by artificial intelligence, it is crucial that we engage in ongoing discussions about what it means to live in harmony with machines. The future of work, society, and human interaction hinges on our ability to navigate these complexities with care, foresight, and a commitment to preserving the values that define our humanity. Ultimately, the integration of AI into everyday life challenges us to redefine our roles as individuals and as a society, prompting us to ask profound questions about identity, ethics, and the nature of progress. In this ever-evolving landscape, we must prioritize education, policy development, and ethical considerations to ensure that technology serves as a tool for enhancing human potential rather than a force that diminishes it.\n",
    "# \"\"\"\n",
    "\n",
    "# reference_summary = \"\"\"\n",
    "# The relationship between humans and machines is increasingly defined by the rise of artificial intelligence (AI), impacting various sectors, including healthcare, finance, education, and the creative industries. In healthcare, AI assists in diagnosing diseases and predicting outcomes, prompting discussions about the balance between technology and the human touch in patient care. While proponents argue that AI enhances capabilities, critics raise concerns about data bias, patient privacy, and the potential loss of human empathy. In finance, AI streamlines processes but introduces challenges related to transparency and accountability. The education sector benefits from personalized learning tools, though disparities in access highlight existing inequalities. In creative fields, AI-generated content raises questions about authorship and originality, particularly concerning misinformation. The overarching theme is the necessity for a thoughtful approach to AI integration, balancing innovation with ethical and social implications. As society navigates these complexities, ongoing dialogue is essential to ensure technology enhances human potential while preserving core values.\n",
    "# \"\"\""
   ]
  },
  {
   "cell_type": "markdown",
   "metadata": {},
   "source": [
    "### Splitting into chunks"
   ]
  },
  {
   "cell_type": "code",
   "execution_count": 27,
   "metadata": {},
   "outputs": [
    {
     "name": "stdout",
     "output_type": "stream",
     "text": [
      "Number of character-based chunks: 25\n"
     ]
    }
   ],
   "source": [
    "def split_text_by_characters(text, chunk_size_chars=1000):\n",
    "    \"\"\"\n",
    "    Splits text into smaller chunks based on a character limit.\n",
    "    :param text: The entire document text\n",
    "    :param chunk_size_chars: The number of characters per chunk\n",
    "    :return: List of text chunks\n",
    "    \"\"\"\n",
    "    chunks = [text[i:i + chunk_size_chars] for i in range(0, len(text), chunk_size_chars)]\n",
    "    return chunks\n",
    "\n",
    "# Split the document into smaller character-based chunks\n",
    "char_chunks = split_text_by_characters(document_text, chunk_size_chars=1000)\n",
    "\n",
    "print(f\"Number of character-based chunks: {len(char_chunks)}\")\n"
   ]
  },
  {
   "cell_type": "markdown",
   "metadata": {},
   "source": [
    "### Token Validation"
   ]
  },
  {
   "cell_type": "code",
   "execution_count": 28,
   "metadata": {},
   "outputs": [
    {
     "name": "stdout",
     "output_type": "stream",
     "text": [
      "Number of validated token-safe chunks: 25\n"
     ]
    }
   ],
   "source": [
    "from transformers import T5Tokenizer\n",
    "\n",
    "# Load the T5-small tokenizer\n",
    "tokenizer = T5Tokenizer.from_pretrained(\"t5-small\")\n",
    "\n",
    "def ensure_safe_token_length(chunks, tokenizer, max_chunk_length=512):\n",
    "    validated_chunks = []\n",
    "    \n",
    "    for chunk in chunks:\n",
    "        tokens = tokenizer.encode(chunk)\n",
    "        if len(tokens) > max_chunk_length:\n",
    "            # If a chunk exceeds the token limit, split it further\n",
    "            token_chunks = [tokens[i:i + max_chunk_length] for i in range(0, len(tokens), max_chunk_length)]\n",
    "            # Convert token chunks back to text and append to validated_chunks\n",
    "            for token_chunk in token_chunks:\n",
    "                validated_chunks.append(tokenizer.decode(token_chunk, skip_special_tokens=True))\n",
    "        else:\n",
    "            validated_chunks.append(chunk)\n",
    "    \n",
    "    return validated_chunks\n",
    "\n",
    "# Ensure all chunks fit within the token length constraint\n",
    "validated_text_chunks = ensure_safe_token_length(char_chunks, tokenizer, max_chunk_length=512)\n",
    "\n",
    "print(f\"Number of validated token-safe chunks: {len(validated_text_chunks)}\")\n"
   ]
  },
  {
   "cell_type": "markdown",
   "metadata": {},
   "source": [
    "### Summerization"
   ]
  },
  {
   "cell_type": "code",
   "execution_count": 29,
   "metadata": {},
   "outputs": [
    {
     "name": "stderr",
     "output_type": "stream",
     "text": [
      "Some weights of PegasusForConditionalGeneration were not initialized from the model checkpoint at google/pegasus-xsum and are newly initialized: ['model.encoder.embed_positions.weight', 'model.decoder.embed_positions.weight']\n",
      "You should probably TRAIN this model on a down-stream task to be able to use it for predictions and inference.\n"
     ]
    },
    {
     "name": "stdout",
     "output_type": "stream",
     "text": [
      "Summary for Chunk 1:\n",
      "This is an appeal from a decision of the High Court which dismissed a claim for compensation brought under section 14 of the Explosives Ordinance, 1950, on the ground that the loss of the goods was explosion damage within the meaning of the Ordinance so as to bring the case within section 18.\n",
      "\n",
      "Summary for Chunk 2:\n",
      "The High Court of India has the jurisdiction to hear an appeal against a decision of the Appellate Tribunal on facts recorded by the Tribuna.l-Accepting arauments of CO'ltnsel as proved fa.cts and basing decision on them, impropriety of Business expenditnre Payments to avoid disclosure of misfeasance of director.\n",
      "\n",
      "Summary for Chunk 3:\n",
      "The High Court of Calcutta is not an advisory court, as it is not under the advisory jurisdiction of the Income-tax Tribunal, as it is under the jurisdiction of the Supreme Court, as it is under the advisory jurisdiction of the High Court, as it is under the jurisdiction of the Supreme Court, as it is under the advisory jurisdiction of the High Court, as it is under the advisory jurisdiction of the Supreme Court, as it is under the advisory jurisdiction of the High Court, as it is under the advisory jurisdiction of the High Court, as it is under the advisory jurisdiction of the High Court, as it is under the advisory jurisdiction of the High Court, as it is under the advisory jurisdiction of the High Court, as it is under\n",
      "\n",
      "Summary for Chunk 4:\n",
      "The Appellate Tribunal has held that a decree passed against a company by a court of competent jurisdiction should not be excluded from its asRessable income as business tax under the Income­ tax Act.\n",
      "\n",
      "Summary for Chunk 5:\n",
      "The Court of Appeal has reversed a decision of the Revenue and Customs Tribunal, which ruled that a company's remunera­ tion was not a revenue expenditure and should not have been deductible as business expenditure.\n",
      "\n",
      "Summary for Chunk 6:\n",
      "Appeal from the judgment of the High Court at Calcutta (Harries C.J. and Chatterjea J.) pronounced on a reference made to it by the Income.tax Tribunal under section 66 (2) of the Indian Income-tax Act, 1922.\n",
      "\n",
      "Summary for Chunk 7:\n",
      "The Madhya Pradesh High Court has ruled that a bank can claim payment of hundis drawn in the name of a company, acting in the capacity of the managing agents of the company, in the name of the Mill Company and the same were negotiated to others.\n",
      "\n",
      "Summary for Chunk 8:\n",
      "Four suits were brought against the Bengal Mill Company by the Nath Bank Ltd., a subsidiary of the Calcutta Agency Limited, in the Calcutta High Court, Calcutta, on the ground that the said Mill had not used the said sum of Rs.\n",
      "\n",
      "Summary for Chunk 9:\n",
      "Here is a copy of a writ petition filed in the High Court of West Bengal by Nath Bank Ltd., against the Calcutta Agency Limited and its directors and officers, in connection with four suits instituted in the High Court of West Bengal by Nath Bank Ltd., against the said Mills.\n",
      "\n",
      "Summary for Chunk 10:\n",
      "The following is an agreement between a jute mill and a respondent company on the issue of tax on profits made by the mill on account of its activities in the year 1949-1950: \"The Mill Company hereby agrees to pay to the respondent company one half of the commission so paid by the Mill Company to the respondent company on account of its activities in the year 1949-1950.\n",
      "\n",
      "Summary for Chunk 11:\n",
      "The Income-tax Tribunal has held that a company incorporated under the Companies Act, 1956, was entitled to exemption under section 10(2) (xv) of the Income-tax Act on the ground that it was an expenditure which was not in the nature of a capi\n",
      "\n",
      "Summary for Chunk 12:\n",
      "The Commissioner of Revenue and Customs brought a case against the applicant company, Basanti Cotton Mills Ltd., alleging that it had agreed to pay off the decretal amount from the remuneration which it was entitled to get from the Basanti Cotton Mills.\n",
      "\n",
      "Summary for Chunk 13:\n",
      "Here is the full decision of the Privy Council on the appeal of Basanti Cotton Mills Ltd against the decision of the Income Tax Appellate Tribunal (ITAT) on a decree passed against it by the then Prime Minister Indira Gandhi.\n",
      "\n",
      "Summary for Chunk 14:\n",
      "In the case of Basanti Cotton Mills Ltd., the company had contended that it had agreed to pay the amount mentioned in the agreement with the Income- tax Tribunal and that it was not liable to pay the amount mentioned in the agreement.\n",
      "\n",
      "Summary for Chunk 15:\n",
      "The case of 111 itchell's case(') was heard by the High Court in the month of February, 2010 in the context of a scandal involving a number of agents of the then Attorney General, Kania J.\n",
      "\n",
      "Summary for Chunk 16:\n",
      "The Court of Appeal for West Bengal has upheld the decision of the Appellate Tribunal in favour of the Commissioner of Income-tax, West Bengal, in an appeal against the High Court's decision to allow a deduction to a company under section 10(2) (xv) of the Income-tax Act, as claimed by the respondents.\n",
      "\n",
      "Summary for Chunk 17:\n",
      "The Calcutta High Court has been asked to decide whether a company should be taxed on the income it made during the assessment year of 1950 or whether it should be taxed on the income it made during the assessment year of 1951.\n",
      "\n",
      "Summary for Chunk 18:\n",
      "In this case, the High Court has held that the statement of the case prepared by the Tribunal and filed in the High Court as the final statement of facts is the agreement state of the parties concerned.\n",
      "\n",
      "Summary for Chunk 19:\n",
      "The High Court is not empowered to exercise its advisory jurisdiction over the affairs of a company which is in danger of public exposure or to save itself from scandal or in order to maintain the managing agency of the appellant company.\n",
      "\n",
      "Summary for Chunk 20:\n",
      "The Court of Appeal has held that the High Court was wrong to take the case of Afitchell's case as the law in the present case and to argue that the facts in the present case covered the situation.\n",
      "\n",
      "Summary for Chunk 21:\n",
      "The following is a brief synopsis of the decision of the Appellate Assistant Commissioner of the Income-tax in the case of Raja Bijoy Singh Dudhuria and others against the Income-tax Officer in the case of Oommerimon!\n",
      "\n",
      "Summary for Chunk 22:\n",
      "The first objection raised before the Appellate Assistant Commissioner was in these terms:-' That the Income-tax Officer should have allowed the said sum of Rs. 22,500 as allowable expenditure being alloca­ tion of a sum out of the revenue receipt before it became income in the hands of the assessee.\n",
      "\n",
      "Summary for Chunk 23:\n",
      "In Mitchell's case(2), the Supreme Court had held that a deduction under section 10 (2) (xv) of the Income Tax Act could not be allowed if there was no evidence that the principles laid down in Mitchell's case(2) could be applied.\n",
      "\n",
      "Summary for Chunk 24:\n",
      "The Court of Appeal for the High OomI has held that the High OomI missioner of the Court did not have the jurisdiction to hear the appeal of Calcutta Agenoy and others against the order of the Income-tax Officer.\n",
      "\n",
      "Summary for Chunk 25:\n",
      "The appellants have appealed against the decision of the Court of Appeal which ruled that they were not entitled to the deduction claimed in their winding-up proceedings against the appellants' former solicitor-in-chief and their former accountant.\n",
      "\n"
     ]
    }
   ],
   "source": [
    "# Load model directly\n",
    "from transformers import AutoTokenizer, AutoModelForSeq2SeqLM\n",
    "\n",
    "tokenizer = AutoTokenizer.from_pretrained(\"google/pegasus-xsum\")\n",
    "model = AutoModelForSeq2SeqLM.from_pretrained(\"google/pegasus-xsum\")\n",
    "\n",
    "def summarize_chunk(chunk):\n",
    "    \"\"\"\n",
    "    Summarizes a single chunk of text.\n",
    "    :param chunk: A chunk of text to summarize\n",
    "    :return: The summary of the chunk\n",
    "    \"\"\"\n",
    "    inputs = tokenizer.encode(\"summarize: \" + chunk, return_tensors=\"pt\", max_length=512, truncation=True)\n",
    "    summary_ids = model.generate(inputs, max_length=150, min_length=40, length_penalty=2.0, num_beams=4, early_stopping=True)\n",
    "    summary = tokenizer.decode(summary_ids[0], skip_special_tokens=True)\n",
    "    return summary\n",
    "\n",
    "# Summarize each validated chunk\n",
    "summarized_chunks = [summarize_chunk(chunk) for chunk in validated_text_chunks]\n",
    "\n",
    "# Print summarized chunks (optional)\n",
    "for idx, summary in enumerate(summarized_chunks):\n",
    "    print(f\"Summary for Chunk {idx + 1}:\\n{summary}\\n\")\n"
   ]
  },
  {
   "cell_type": "code",
   "execution_count": 30,
   "metadata": {},
   "outputs": [
    {
     "name": "stdout",
     "output_type": "stream",
     "text": [
      "This is an appeal from a decision of the High Court which dismissed a claim for compensation brought under section 14 of the Explosives Ordinance, 1950, on the ground that the loss of the goods was explosion damage within the meaning of the Ordinance so as to bring the case within section 18. The High Court of India has the jurisdiction to hear an appeal against a decision of the Appellate Tribunal on facts recorded by the Tribuna.l-Accepting arauments of CO'ltnsel as proved fa.cts and basing decision on them, impropriety of Business expenditnre Payments to avoid disclosure of misfeasance of director. The High Court of Calcutta is not an advisory court, as it is not under the advisory jurisdiction of the Income-tax Tribunal, as it is under the jurisdiction of the Supreme Court, as it is under the advisory jurisdiction of the High Court, as it is under the jurisdiction of the Supreme Court, as it is under the advisory jurisdiction of the High Court, as it is under the advisory jurisdiction of the Supreme Court, as it is under the advisory jurisdiction of the High Court, as it is under the advisory jurisdiction of the High Court, as it is under the advisory jurisdiction of the High Court, as it is under the advisory jurisdiction of the High Court, as it is under the advisory jurisdiction of the High Court, as it is under The Appellate Tribunal has held that a decree passed against a company by a court of competent jurisdiction should not be excluded from its asRessable income as business tax under the Income­ tax Act. The Court of Appeal has reversed a decision of the Revenue and Customs Tribunal, which ruled that a company's remunera­ tion was not a revenue expenditure and should not have been deductible as business expenditure. Appeal from the judgment of the High Court at Calcutta (Harries C.J. and Chatterjea J.) pronounced on a reference made to it by the Income.tax Tribunal under section 66 (2) of the Indian Income-tax Act, 1922. The Madhya Pradesh High Court has ruled that a bank can claim payment of hundis drawn in the name of a company, acting in the capacity of the managing agents of the company, in the name of the Mill Company and the same were negotiated to others. Four suits were brought against the Bengal Mill Company by the Nath Bank Ltd., a subsidiary of the Calcutta Agency Limited, in the Calcutta High Court, Calcutta, on the ground that the said Mill had not used the said sum of Rs. Here is a copy of a writ petition filed in the High Court of West Bengal by Nath Bank Ltd., against the Calcutta Agency Limited and its directors and officers, in connection with four suits instituted in the High Court of West Bengal by Nath Bank Ltd., against the said Mills. The following is an agreement between a jute mill and a respondent company on the issue of tax on profits made by the mill on account of its activities in the year 1949-1950: \"The Mill Company hereby agrees to pay to the respondent company one half of the commission so paid by the Mill Company to the respondent company on account of its activities in the year 1949-1950. The Income-tax Tribunal has held that a company incorporated under the Companies Act, 1956, was entitled to exemption under section 10(2) (xv) of the Income-tax Act on the ground that it was an expenditure which was not in the nature of a capi The Commissioner of Revenue and Customs brought a case against the applicant company, Basanti Cotton Mills Ltd., alleging that it had agreed to pay off the decretal amount from the remuneration which it was entitled to get from the Basanti Cotton Mills. Here is the full decision of the Privy Council on the appeal of Basanti Cotton Mills Ltd against the decision of the Income Tax Appellate Tribunal (ITAT) on a decree passed against it by the then Prime Minister Indira Gandhi. In the case of Basanti Cotton Mills Ltd., the company had contended that it had agreed to pay the amount mentioned in the agreement with the Income- tax Tribunal and that it was not liable to pay the amount mentioned in the agreement. The case of 111 itchell's case(') was heard by the High Court in the month of February, 2010 in the context of a scandal involving a number of agents of the then Attorney General, Kania J. The Court of Appeal for West Bengal has upheld the decision of the Appellate Tribunal in favour of the Commissioner of Income-tax, West Bengal, in an appeal against the High Court's decision to allow a deduction to a company under section 10(2) (xv) of the Income-tax Act, as claimed by the respondents. The Calcutta High Court has been asked to decide whether a company should be taxed on the income it made during the assessment year of 1950 or whether it should be taxed on the income it made during the assessment year of 1951. In this case, the High Court has held that the statement of the case prepared by the Tribunal and filed in the High Court as the final statement of facts is the agreement state of the parties concerned. The High Court is not empowered to exercise its advisory jurisdiction over the affairs of a company which is in danger of public exposure or to save itself from scandal or in order to maintain the managing agency of the appellant company. The Court of Appeal has held that the High Court was wrong to take the case of Afitchell's case as the law in the present case and to argue that the facts in the present case covered the situation. The following is a brief synopsis of the decision of the Appellate Assistant Commissioner of the Income-tax in the case of Raja Bijoy Singh Dudhuria and others against the Income-tax Officer in the case of Oommerimon! The first objection raised before the Appellate Assistant Commissioner was in these terms:-' That the Income-tax Officer should have allowed the said sum of Rs. 22,500 as allowable expenditure being alloca­ tion of a sum out of the revenue receipt before it became income in the hands of the assessee. In Mitchell's case(2), the Supreme Court had held that a deduction under section 10 (2) (xv) of the Income Tax Act could not be allowed if there was no evidence that the principles laid down in Mitchell's case(2) could be applied. The Court of Appeal for the High OomI has held that the High OomI missioner of the Court did not have the jurisdiction to hear the appeal of Calcutta Agenoy and others against the order of the Income-tax Officer. The appellants have appealed against the decision of the Court of Appeal which ruled that they were not entitled to the deduction claimed in their winding-up proceedings against the appellants' former solicitor-in-chief and their former accountant.\n"
     ]
    }
   ],
   "source": [
    "# Concatenate all the summarized chunks to form the final summary\n",
    "final_summary = \" \".join(summarized_chunks)\n",
    "\n",
    "# Print the final summary\n",
    "\n",
    "print(final_summary)\n"
   ]
  },
  {
   "cell_type": "code",
   "execution_count": 34,
   "metadata": {},
   "outputs": [
    {
     "data": {
      "text/plain": [
       "6623"
      ]
     },
     "execution_count": 34,
     "metadata": {},
     "output_type": "execute_result"
    }
   ],
   "source": [
    "len(final_summary)"
   ]
  },
  {
   "cell_type": "markdown",
   "metadata": {},
   "source": [
    "### Metrics"
   ]
  },
  {
   "cell_type": "code",
   "execution_count": 31,
   "metadata": {},
   "outputs": [
    {
     "name": "stdout",
     "output_type": "stream",
     "text": [
      "{'rouge1': Score(precision=0.03916666666666667, recall=0.3032258064516129, fmeasure=0.06937269372693727), 'rouge2': Score(precision=0.004170141784820684, recall=0.032467532467532464, fmeasure=0.007390983000739098), 'rougeL': Score(precision=0.030833333333333334, recall=0.23870967741935484, fmeasure=0.054612546125461264)}\n"
     ]
    }
   ],
   "source": [
    "\n",
    "from rouge_score import rouge_scorer\n",
    "\n",
    "# Example summaries\n",
    "generated_summary = final_summary\n",
    "reference_summary = reference_summary\n",
    "scorer = rouge_scorer.RougeScorer(['rouge1', 'rouge2', 'rougeL'], use_stemmer=True)\n",
    "scores = scorer.score(reference_summary, generated_summary)\n",
    "\n",
    "print(scores)\n"
   ]
  },
  {
   "cell_type": "code",
   "execution_count": 32,
   "metadata": {},
   "outputs": [
    {
     "name": "stdout",
     "output_type": "stream",
     "text": [
      "rouge1:\n",
      "  Precision: 0.0392\n",
      "  Recall: 0.3032\n",
      "  F-measure: 0.0694\n",
      "\n",
      "rouge2:\n",
      "  Precision: 0.0042\n",
      "  Recall: 0.0325\n",
      "  F-measure: 0.0074\n",
      "\n",
      "rougeL:\n",
      "  Precision: 0.0308\n",
      "  Recall: 0.2387\n",
      "  F-measure: 0.0546\n",
      "\n"
     ]
    }
   ],
   "source": [
    "# Loop through each ROUGE score and print its values\n",
    "for key, score in scores.items():\n",
    "    print(f\"{key}:\")\n",
    "    print(f\"  Precision: {score.precision:.4f}\")\n",
    "    print(f\"  Recall: {score.recall:.4f}\")\n",
    "    print(f\"  F-measure: {score.fmeasure:.4f}\\n\")\n"
   ]
  },
  {
   "cell_type": "code",
   "execution_count": 33,
   "metadata": {},
   "outputs": [
    {
     "name": "stdout",
     "output_type": "stream",
     "text": [
      "BLEU score with smoothing: 0.0013\n",
      "BLEU score (unigrams with smoothing): 0.0536\n",
      "BLEU score (bigrams with smoothing): 0.0079\n",
      "BLEU score (trigrams with smoothing): 0.0001\n",
      "BLEU score (4-grams with smoothing): 0.0001\n"
     ]
    }
   ],
   "source": [
    "import nltk\n",
    "from nltk.translate.bleu_score import sentence_bleu, SmoothingFunction\n",
    "\n",
    "# Sample reference text\n",
    "reference_text = reference_summary\n",
    "\n",
    "# Sample generated text from your model\n",
    "generated_text = final_summary\n",
    "\n",
    "# Tokenize the reference and generated texts\n",
    "reference = [nltk.word_tokenize(reference_text.lower())]  # List of reference sentences\n",
    "generated = nltk.word_tokenize(generated_text.lower())\n",
    "\n",
    "# Use a smoothing function\n",
    "smoothie = SmoothingFunction()\n",
    "\n",
    "# Calculate BLEU score with smoothing for all n-gram orders\n",
    "bleu_score = sentence_bleu(reference, generated, smoothing_function=smoothie.method1)\n",
    "print(f\"BLEU score with smoothing: {bleu_score:.4f}\")\n",
    "\n",
    "# Calculate BLEU score for unigrams, bigrams, trigrams, and 4-grams with smoothing\n",
    "bleu_score_unigrams = sentence_bleu(reference, generated, weights=(1, 0, 0, 0), smoothing_function=smoothie.method1)\n",
    "bleu_score_bigrams = sentence_bleu(reference, generated, weights=(0, 1, 0, 0), smoothing_function=smoothie.method1)\n",
    "bleu_score_trigrams = sentence_bleu(reference, generated, weights=(0, 0, 1, 0), smoothing_function=smoothie.method1)\n",
    "bleu_score_4grams = sentence_bleu(reference, generated, weights=(0, 0, 0, 1), smoothing_function=smoothie.method1)\n",
    "\n",
    "print(f\"BLEU score (unigrams with smoothing): {bleu_score_unigrams:.4f}\")\n",
    "print(f\"BLEU score (bigrams with smoothing): {bleu_score_bigrams:.4f}\")\n",
    "print(f\"BLEU score (trigrams with smoothing): {bleu_score_trigrams:.4f}\")\n",
    "print(f\"BLEU score (4-grams with smoothing): {bleu_score_4grams:.4f}\")\n"
   ]
  },
  {
   "cell_type": "code",
   "execution_count": null,
   "metadata": {},
   "outputs": [],
   "source": []
  }
 ],
 "metadata": {
  "kernelspec": {
   "display_name": "myenv",
   "language": "python",
   "name": "python3"
  },
  "language_info": {
   "codemirror_mode": {
    "name": "ipython",
    "version": 3
   },
   "file_extension": ".py",
   "mimetype": "text/x-python",
   "name": "python",
   "nbconvert_exporter": "python",
   "pygments_lexer": "ipython3",
   "version": "3.8.18"
  }
 },
 "nbformat": 4,
 "nbformat_minor": 2
}
