{
 "cells": [
  {
   "cell_type": "code",
   "execution_count": 17,
   "metadata": {},
   "outputs": [],
   "source": [
    "import os\n",
    "import math\n",
    "import PyPDF2\n",
    "from transformers import AutoTokenizer, AutoModelForSeq2SeqLM\n",
    "from concurrent.futures import ProcessPoolExecutor"
   ]
  },
  {
   "cell_type": "markdown",
   "metadata": {},
   "source": [
    "### File Ingestion"
   ]
  },
  {
   "cell_type": "code",
   "execution_count": 1,
   "metadata": {},
   "outputs": [
    {
     "name": "stdout",
     "output_type": "stream",
     "text": [
      " \n",
      "July 01, 2024 \n",
      "RBI appoints Smt. Charulatha S Kar as new Executive Director \n",
      "     The Reserve Bank of India (RBI) has appointed Smt. Charulatha S Kar as Executive Director (ED) with effect from July 01, 2024. \n",
      "     Prior to being promoted as ED, Smt. Kar was serving as Chief General Manager -in-Charge \n",
      "in the Human Resource Management Department.      Smt. Kar has experience of over three decades in the Reserve Bank having worked in areas of Payment and Settlement Systems, Information Technology, Government Banking, Internal accounts and Human Resource Management. She has represented the Reserve Bank in several Working Groups of BIS and has served as a member of other internal and external Committees.       As Executive Director, Smt. Kar will look after 1. Department of Communication, 2. Human Resource Management Department, 3. Right to Information (First Appellate Authority).       Smt. Kar is a post-graduate in commerce from University of Mumbai and Diploma in Treasury & Forex man\n"
     ]
    }
   ],
   "source": [
    "import PyPDF2\n",
    "\n",
    "# Function to extract text from PDF using PyPDF2\n",
    "def extract_text_from_pdf(file_path):\n",
    "    text = ''\n",
    "    with open(file_path, 'rb') as file:\n",
    "        pdf_reader = PyPDF2.PdfReader(file)\n",
    "        for page_num in range(len(pdf_reader.pages)):\n",
    "            page = pdf_reader.pages[page_num]\n",
    "            text += page.extract_text()\n",
    "    return text\n",
    "\n",
    "# Example usage\n",
    "pdf_file_path = \"C:/Users/mango/Documents/GitHub/PDF-summerizer/Data/pdf5.pdf\"  # Replace with your PDF file path\n",
    "document_text = extract_text_from_pdf(pdf_file_path)\n",
    "\n",
    "# Check the extracted text\n",
    "print(document_text[:1000])  # Print first 1000 characters\n"
   ]
  },
  {
   "cell_type": "code",
   "execution_count": 19,
   "metadata": {},
   "outputs": [],
   "source": [
    "# document_text=\"\"\"\n",
    "# In a world increasingly defined by technology, the relationship between humans and machines has become a focal point of discussion across various domains. The advent of artificial intelligence (AI) has reshaped industries, impacting everything from healthcare to finance, education to entertainment. With the integration of AI in daily life, there emerges a profound question: what does it mean to be human in an age where machines can replicate cognitive functions? This question is particularly relevant in the realm of healthcare, where AI systems are not only assisting doctors in diagnosing diseases but also in predicting patient outcomes based on vast datasets. As a result, the medical community is witnessing a shift in how care is delivered; physicians are now seen as guides who interpret AI-generated insights rather than sole decision-makers. This paradigm shift has its proponents and critics. Advocates argue that AI enhances human capabilities, allowing for more accurate diagnoses and personalized treatment plans. They cite examples of AI systems that analyze medical images with a precision that rivals expert radiologists, thus improving early detection rates of conditions like cancer. On the other hand, critics voice concerns regarding the ethical implications of relying too heavily on machines, fearing that this could undermine the human touch that is integral to patient care. They point out the risk of data bias, as AI systems trained on historical data may perpetuate existing inequalities in healthcare delivery. Moreover, there are apprehensions about patient privacy, as the use of sensitive health data raises questions about who owns this information and how it is used. As healthcare continues to evolve in this direction, the dialogue surrounding the intersection of technology and human experience becomes even more critical. Moving beyond healthcare, the influence of AI permeates other sectors such as finance, where algorithms determine credit scores and assess loan applications. The automation of these processes promises efficiency and speed, yet it also poses significant challenges. For instance, the opaque nature of algorithmic decision-making can lead to a lack of accountability, making it difficult for individuals to understand why they were denied a loan or insurance coverage. In response, policymakers are grappling with the need to regulate AI to ensure fairness and transparency. The challenge lies in striking a balance between innovation and safeguarding the rights of individuals, a debate that reflects broader societal concerns about the pace of technological advancement. In the realm of education, AI offers tools for personalized learning experiences, adapting curricula to meet the unique needs of each student. This potential for customization is promising, particularly for learners who may struggle in traditional educational settings. However, the reliance on technology raises questions about equity, as not all students have equal access to the necessary tools and resources. The digital divide becomes apparent, highlighting disparities that exist within and between communities. As educators explore the integration of AI in classrooms, they must also consider how to ensure that all students benefit from these innovations. In the creative industries, AI is reshaping the landscape of art, music, and literature. Tools powered by AI are now capable of generating original works, blurring the lines between human creativity and machine-generated content. This evolution prompts discussions about authorship and originality. If a machine creates a piece of art, who is the true artist? Furthermore, the rise of deepfakes and AI-generated media has raised ethical concerns about misinformation and the manipulation of public perception. As technology continues to advance, society faces the dual challenge of embracing innovation while mitigating its risks. The overarching theme across these sectors is the need for a thoughtful approach to AI integration, one that considers the ethical, social, and economic implications of these powerful technologies. The dialogue surrounding AI is not merely academic; it has real-world consequences that affect individuals, communities, and global dynamics. As we stand on the precipice of a future increasingly influenced by artificial intelligence, it is crucial that we engage in ongoing discussions about what it means to live in harmony with machines. The future of work, society, and human interaction hinges on our ability to navigate these complexities with care, foresight, and a commitment to preserving the values that define our humanity. Ultimately, the integration of AI into everyday life challenges us to redefine our roles as individuals and as a society, prompting us to ask profound questions about identity, ethics, and the nature of progress. In this ever-evolving landscape, we must prioritize education, policy development, and ethical considerations to ensure that technology serves as a tool for enhancing human potential rather than a force that diminishes it.\n",
    "# \"\"\"\n",
    "\n",
    "# reference_summary = \"\"\"\n",
    "# The relationship between humans and machines is increasingly defined by the rise of artificial intelligence (AI), impacting various sectors, including healthcare, finance, education, and the creative industries. In healthcare, AI assists in diagnosing diseases and predicting outcomes, prompting discussions about the balance between technology and the human touch in patient care. While proponents argue that AI enhances capabilities, critics raise concerns about data bias, patient privacy, and the potential loss of human empathy. In finance, AI streamlines processes but introduces challenges related to transparency and accountability. The education sector benefits from personalized learning tools, though disparities in access highlight existing inequalities. In creative fields, AI-generated content raises questions about authorship and originality, particularly concerning misinformation. The overarching theme is the necessity for a thoughtful approach to AI integration, balancing innovation with ethical and social implications. As society navigates these complexities, ongoing dialogue is essential to ensure technology enhances human potential while preserving core values.\n",
    "# \"\"\""
   ]
  },
  {
   "cell_type": "markdown",
   "metadata": {},
   "source": [
    "### Splitting into chunks"
   ]
  },
  {
   "cell_type": "code",
   "execution_count": 20,
   "metadata": {},
   "outputs": [
    {
     "name": "stdout",
     "output_type": "stream",
     "text": [
      "Number of character-based chunks: 25\n"
     ]
    }
   ],
   "source": [
    "def split_text_by_characters(text, chunk_size_chars=1000):\n",
    "    \"\"\"\n",
    "    Splits text into smaller chunks based on a character limit.\n",
    "    :param text: The entire document text\n",
    "    :param chunk_size_chars: The number of characters per chunk\n",
    "    :return: List of text chunks\n",
    "    \"\"\"\n",
    "    chunks = [text[i:i + chunk_size_chars] for i in range(0, len(text), chunk_size_chars)]\n",
    "    return chunks\n",
    "\n",
    "# Split the document into smaller character-based chunks\n",
    "char_chunks = split_text_by_characters(document_text, chunk_size_chars=1000)\n",
    "\n",
    "print(f\"Number of character-based chunks: {len(char_chunks)}\")\n"
   ]
  },
  {
   "cell_type": "markdown",
   "metadata": {},
   "source": [
    "### Token Validation"
   ]
  },
  {
   "cell_type": "code",
   "execution_count": 21,
   "metadata": {},
   "outputs": [
    {
     "name": "stdout",
     "output_type": "stream",
     "text": [
      "Number of validated token-safe chunks: 25\n"
     ]
    }
   ],
   "source": [
    "from transformers import T5Tokenizer\n",
    "\n",
    "# Load the T5-small tokenizer\n",
    "tokenizer = T5Tokenizer.from_pretrained(\"t5-small\")\n",
    "\n",
    "def ensure_safe_token_length(chunks, tokenizer, max_chunk_length=512):\n",
    "    validated_chunks = []\n",
    "    \n",
    "    for chunk in chunks:\n",
    "        tokens = tokenizer.encode(chunk)\n",
    "        if len(tokens) > max_chunk_length:\n",
    "            # If a chunk exceeds the token limit, split it further\n",
    "            token_chunks = [tokens[i:i + max_chunk_length] for i in range(0, len(tokens), max_chunk_length)]\n",
    "            # Convert token chunks back to text and append to validated_chunks\n",
    "            for token_chunk in token_chunks:\n",
    "                validated_chunks.append(tokenizer.decode(token_chunk, skip_special_tokens=True))\n",
    "        else:\n",
    "            validated_chunks.append(chunk)\n",
    "    \n",
    "    return validated_chunks\n",
    "\n",
    "# Ensure all chunks fit within the token length constraint\n",
    "validated_text_chunks = ensure_safe_token_length(char_chunks, tokenizer, max_chunk_length=512)\n",
    "\n",
    "print(f\"Number of validated token-safe chunks: {len(validated_text_chunks)}\")\n"
   ]
  },
  {
   "cell_type": "markdown",
   "metadata": {},
   "source": [
    "### Summerization"
   ]
  },
  {
   "cell_type": "code",
   "execution_count": 22,
   "metadata": {},
   "outputs": [
    {
     "name": "stdout",
     "output_type": "stream",
     "text": [
      "Summary for Chunk 1:\n",
      "the respondents cannot therefore claim that the loss of the goods was explosion damage within the meaning of the Ordinance. the respondents cannot therefore claim that the loss of the goods was not \"due to or did not in any way arise ont of the explosion\" in order to a void the bar under section 18.\n",
      "\n",
      "Summary for Chunk 2:\n",
      "DAS J. agreed with the Chief Justice. Appeal dismissed. Agent for the appellants: Mohan Behari Lal. Agent for the appellants: I. N. Shroff.\n",
      "\n",
      "Summary for Chunk 3:\n",
      "The High Court would be acting improperly if it takes the arguments of the counsel for the assessee as if they were facts. It is not p1oper to depart fron1 this rule of law Incnme-tax, as it will convert the High Court into a fact finding authority, Wcst Bengal which it is not.\n",
      "\n",
      "Summary for Chunk 4:\n",
      "dravn some hundis in the name of tho Mills, aod as the Mills repudiated lia­ bility, suits were filed on the hundis against the Mills and the assessees. The assessees thereupon agreed to reimburse the Mills by permitting the latter to deduct a moiety of the commission pa.yable to them.\n",
      "\n",
      "Summary for Chunk 5:\n",
      "In the High Court the assessees' counsel argued that the payments were made by th• assessees to avoid the publicity of an action against them and the consequent exposure and loss of reputation as a managing agency company. The High Court accepted this argument and reversed the decision of the Tribunal.\n",
      "\n",
      "Summary for Chunk 6:\n",
      "Civil Appeal No. 59 of onimissioner o 1\"come-tax, 1950. West Bengal Appeal from a Judgment of the High Court of Judi- v. cature at Calcutta (Harries C.J. and Chatterjea J.) Galcu/Y'\"Y dated 9th Septern ber, 1949, in a reference under section 66 (2) of the Indian Income-tax Act, 1922.\n",
      "\n",
      "Summary for Chunk 7:\n",
      "In November 1932, the Basanti Cotton Mills Ltd. was incorporated and the respondents were appointed their managing agents. Their remuneration was fixed at a monthly allowance of Rs. 500 and a commission of 3 per cent on all gross sales of goods manufactured by the Mills Company. The fixed monthly allowance was liable to be increased in the event of the capital of the company being increased.\n",
      "\n",
      "Summary for Chunk 8:\n",
      "The Nath Bank Ltd. instituted four suits I' • S.C.R. SUPREME COURT REPORTS 1011 against the Mill Company, in two of which the res-1950 pondent company were party-defendants. The Mill Comm;:.;;;;n., of Company was advised to settle the suits and the res-Incom•ta:r:. pondent company entered into an agreement with the w.\n",
      "\n",
      "Summary for Chunk 9:\n",
      "Nath Bank Ltd. there- upon instituted four suits in High Court being suit Nos. 1683, 1720, 1735 and 1757 of 1939 for the said aggregate sum of Rs. 1,80,000 and the interest thereon AND WHEREAS the said Mills have been advised to settle the said suits amicably AND WHEREAS the Calcutta Agency Limited by its Directors, S.N. Mitter or S.C. Mitter, having been and being still the Manag-ing Agents of\n",
      "\n",
      "Summary for Chunk 10:\n",
      "Under the said agreement, the respondent company paid to the Mill Company Rs. 22,500 made up of • 1012 SUPREME COURT REPORTS [1950] t9oO Rs. 18,107 as principal and Rs. 4,393 as interest in the 0 -:--:-1accounting year. The assessee company claimed this omm1ssioner o. Incomo-ta:c as a deduc- Weat Benadi \n",
      "\n",
      "Summary for Chunk 11:\n",
      "the arguments urged on behalf of the assessee company have been recapitulated. The first argument was that under the first proviso to section 7 of the Indian Income-tax Act, this payment was liable to be exempted. The High Court also rejected the same and it was not presented before us.\n",
      "\n",
      "Summary for Chunk 12:\n",
      "Basanti Cotton Mills Ltd. urged that if the applicant company did not agree to pay this amount, Basanti Cotton Mills could have brought a suit against the company to realise this amount due on the hundis.\n",
      "\n",
      "Summary for Chunk 13:\n",
      "The decree was passed against the applicant company evidently for certain misfeasance committed by its directors. The books of account of Basanti Cotton Mills Ltd. would show that they were paying the applicant company in full its remuneration. In the circumstances the Tribunal held that the expenditure was not laid out wholly and exclusively for the purpose of carrying on the business.\n",
      "\n",
      "Summary for Chunk 14:\n",
      "a statement of the case prepared by the Income­ tax Tribunal was perused by the parties and they had no suggestions to make in respect of the same. The state­ment of the case was thus settled with the knowledge and approval of the parties.\n",
      "\n",
      "Summary for Chunk 15:\n",
      "The High Court noticed several cases including 111 itchell' s case(') and towards the close of the judgment delivered by Chatterjea J. observed as follows: \"In this case it is clear that the agreement was entered into with a view to avoid the publicity of an action against the mana­ ging agents and consequent exposure and scandal\" The payment in question did not bring in any new assets into existence nor in my opinion can it properly be said that it brought into existence an advantage for the enduring benefit of the company'\n",
      "\n",
      "Summary for Chunk 16:\n",
      "The Appellate Tribunal observed that the decree was evidently passed against the appellant company for certain misfeasance by its directors. The object of the agree was to enable the company to remove a defect in carrying on the business of the company and to earn profits in its business. The High Court differed from the conclusion of the Tribunal and allowed the deduction to the respondent company under section 10(2) (xv) of the Income-tax Act, as claimed by the respondents.\n",
      "\n",
      "Summary for Chunk 17:\n",
      "The jurisdiction of the High Court v. in the matter of income-tax references is an advisory Calcutta Agency jurisdiction. It is therefore the duty of the High Court to start by looking at the facts found by the Tribunal and answer the questions of law on that footing. Any departure from this rule of law will convert the High Court into a fact-finding authority, which it is not under the advisory jurisdiction.\n",
      "\n",
      "Summary for Chunk 18:\n",
      "me-tax Act is prepared with the knowledge of the parties concerned. In the present case the parties perused the statement of case and as disclosed by the note made at the end of it had no sug- gestions to make in respect thereof. It is therefore clear that it was the duty of the High Court to start with that statement as the final statement of facts.\n",
      "\n",
      "Summary for Chunk 19:\n",
      "The whole conclusion of the High Court is based on this unwarranted assumption of facts which are taken only from the argument of counsel for the present respondents before the High Court. It seems that unfortunately counsel for Ltd. the respondents caught hold of Mitchell's case(1) and -basing his argument on the circumstances under which Ka,zia 0. J. d a payment could be escribed as a business expenditure falling within the terms of section 10 (2) (xv), a business expenditure falling within the terms of section\n",
      "\n",
      "Summary for Chunk 20:\n",
      "In our opinion this is an entirely wrong approach and should not have been permitted by the High Court. The High Court fell into a grave error in omitting first to ascer­ tain what were the facts found in the case stated by the Tribunal. The High Court overlooked that in Afitchell's case the whole discussion started with a quotation from the case stated by the Commissioners.\n",
      "\n",
      "Summary for Chunk 21:\n",
      "Income-tax Officer was in error in not allowing the deduction of interest. In disallowing this claim the 1950 Income-tax Officer was following the decision of my predecessor in his order dated the 18th March 1942 in Oommimoner 0! Appeal No._ 1-- 1 of.1941-42.\n",
      "\n",
      "Summary for Chunk 22:\n",
      "v. agency company had surplus money and such money Calcutta Ag••cv  was invested or that there was any need to borrow. Ltd. Thus the need to borrow is not established. There is no doubt that money was borrowed but lmless it can Kania c. J. to prove that the borrowing is for the purpose of the business and the loan was u:sed in the business, the interest cannot be allowed under section 10(2)(iii).\n",
      "\n",
      "Summary for Chunk 23:\n",
      "Reliance was placed for this contention on Raja Bijoy Singh Dudhuria's case('). The contention was rejected. No evidence, it appears, was led before the Income Tax Tribunal. The Tribunal's conclusions of facts were only as summarized in the earlier part of the judgment.\n",
      "\n",
      "Summary for Chunk 24:\n",
      "The High OomI missioner of Court was carried away, it seems, by the argument of ncometax, West Bengal the counsel and through error accepted the argument v. as facts. if it had noticed the contention Calcutta Agenoy urged before the Income-tax Officer it would have seen Ltd, at once that the argument was in a measure conflicting with that contention which was based on the foot- Kania a. 1 ing of Rs. 1,80,000 being\n",
      "\n",
      "Summary for Chunk 25:\n",
      "appeal is therefore allowed with costs here and before the High Court. Agent for appellant : P.A. Mehta. Agent for respondents: Ganpat Rai. Agent for the respondents: Ganpat Rai.\n",
      "\n"
     ]
    }
   ],
   "source": [
    "# Load model directly\n",
    "from transformers import AutoTokenizer, AutoModelForSeq2SeqLM\n",
    "\n",
    "tokenizer = AutoTokenizer.from_pretrained(\"Falconsai/text_summarization\")\n",
    "model = AutoModelForSeq2SeqLM.from_pretrained(\"Falconsai/text_summarization\")\n",
    "\n",
    "def summarize_chunk(chunk):\n",
    "    \"\"\"\n",
    "    Summarizes a single chunk of text.\n",
    "    :param chunk: A chunk of text to summarize\n",
    "    :return: The summary of the chunk\n",
    "    \"\"\"\n",
    "    inputs = tokenizer.encode(\"summarize: \" + chunk, return_tensors=\"pt\", max_length=512, truncation=True)\n",
    "    summary_ids = model.generate(inputs, max_length=150, min_length=40, length_penalty=2.0, num_beams=4, early_stopping=True)\n",
    "    summary = tokenizer.decode(summary_ids[0], skip_special_tokens=True)\n",
    "    return summary\n",
    "\n",
    "# Summarize each validated chunk\n",
    "summarized_chunks = [summarize_chunk(chunk) for chunk in validated_text_chunks]\n",
    "\n",
    "# Print summarized chunks (optional)\n",
    "for idx, summary in enumerate(summarized_chunks):\n",
    "    print(f\"Summary for Chunk {idx + 1}:\\n{summary}\\n\")\n"
   ]
  },
  {
   "cell_type": "code",
   "execution_count": 23,
   "metadata": {},
   "outputs": [
    {
     "name": "stdout",
     "output_type": "stream",
     "text": [
      "the respondents cannot therefore claim that the loss of the goods was explosion damage within the meaning of the Ordinance. the respondents cannot therefore claim that the loss of the goods was not \"due to or did not in any way arise ont of the explosion\" in order to a void the bar under section 18. DAS J. agreed with the Chief Justice. Appeal dismissed. Agent for the appellants: Mohan Behari Lal. Agent for the appellants: I. N. Shroff. The High Court would be acting improperly if it takes the arguments of the counsel for the assessee as if they were facts. It is not p1oper to depart fron1 this rule of law Incnme-tax, as it will convert the High Court into a fact finding authority, Wcst Bengal which it is not. dravn some hundis in the name of tho Mills, aod as the Mills repudiated lia­ bility, suits were filed on the hundis against the Mills and the assessees. The assessees thereupon agreed to reimburse the Mills by permitting the latter to deduct a moiety of the commission pa.yable to them. In the High Court the assessees' counsel argued that the payments were made by th• assessees to avoid the publicity of an action against them and the consequent exposure and loss of reputation as a managing agency company. The High Court accepted this argument and reversed the decision of the Tribunal. Civil Appeal No. 59 of onimissioner o 1\"come-tax, 1950. West Bengal Appeal from a Judgment of the High Court of Judi- v. cature at Calcutta (Harries C.J. and Chatterjea J.) Galcu/Y'\"Y dated 9th Septern ber, 1949, in a reference under section 66 (2) of the Indian Income-tax Act, 1922. In November 1932, the Basanti Cotton Mills Ltd. was incorporated and the respondents were appointed their managing agents. Their remuneration was fixed at a monthly allowance of Rs. 500 and a commission of 3 per cent on all gross sales of goods manufactured by the Mills Company. The fixed monthly allowance was liable to be increased in the event of the capital of the company being increased. The Nath Bank Ltd. instituted four suits I' • S.C.R. SUPREME COURT REPORTS 1011 against the Mill Company, in two of which the res-1950 pondent company were party-defendants. The Mill Comm;:.;;;;n., of Company was advised to settle the suits and the res-Incom•ta:r:. pondent company entered into an agreement with the w. Nath Bank Ltd. there- upon instituted four suits in High Court being suit Nos. 1683, 1720, 1735 and 1757 of 1939 for the said aggregate sum of Rs. 1,80,000 and the interest thereon AND WHEREAS the said Mills have been advised to settle the said suits amicably AND WHEREAS the Calcutta Agency Limited by its Directors, S.N. Mitter or S.C. Mitter, having been and being still the Manag-ing Agents of Under the said agreement, the respondent company paid to the Mill Company Rs. 22,500 made up of • 1012 SUPREME COURT REPORTS [1950] t9oO Rs. 18,107 as principal and Rs. 4,393 as interest in the 0 -:--:-1accounting year. The assessee company claimed this omm1ssioner o. Incomo-ta:c as a deduc- Weat Benadi  the arguments urged on behalf of the assessee company have been recapitulated. The first argument was that under the first proviso to section 7 of the Indian Income-tax Act, this payment was liable to be exempted. The High Court also rejected the same and it was not presented before us. Basanti Cotton Mills Ltd. urged that if the applicant company did not agree to pay this amount, Basanti Cotton Mills could have brought a suit against the company to realise this amount due on the hundis. The decree was passed against the applicant company evidently for certain misfeasance committed by its directors. The books of account of Basanti Cotton Mills Ltd. would show that they were paying the applicant company in full its remuneration. In the circumstances the Tribunal held that the expenditure was not laid out wholly and exclusively for the purpose of carrying on the business. a statement of the case prepared by the Income­ tax Tribunal was perused by the parties and they had no suggestions to make in respect of the same. The state­ment of the case was thus settled with the knowledge and approval of the parties. The High Court noticed several cases including 111 itchell' s case(') and towards the close of the judgment delivered by Chatterjea J. observed as follows: \"In this case it is clear that the agreement was entered into with a view to avoid the publicity of an action against the mana­ ging agents and consequent exposure and scandal\" The payment in question did not bring in any new assets into existence nor in my opinion can it properly be said that it brought into existence an advantage for the enduring benefit of the company' The Appellate Tribunal observed that the decree was evidently passed against the appellant company for certain misfeasance by its directors. The object of the agree was to enable the company to remove a defect in carrying on the business of the company and to earn profits in its business. The High Court differed from the conclusion of the Tribunal and allowed the deduction to the respondent company under section 10(2) (xv) of the Income-tax Act, as claimed by the respondents. The jurisdiction of the High Court v. in the matter of income-tax references is an advisory Calcutta Agency jurisdiction. It is therefore the duty of the High Court to start by looking at the facts found by the Tribunal and answer the questions of law on that footing. Any departure from this rule of law will convert the High Court into a fact-finding authority, which it is not under the advisory jurisdiction. me-tax Act is prepared with the knowledge of the parties concerned. In the present case the parties perused the statement of case and as disclosed by the note made at the end of it had no sug- gestions to make in respect thereof. It is therefore clear that it was the duty of the High Court to start with that statement as the final statement of facts. The whole conclusion of the High Court is based on this unwarranted assumption of facts which are taken only from the argument of counsel for the present respondents before the High Court. It seems that unfortunately counsel for Ltd. the respondents caught hold of Mitchell's case(1) and -basing his argument on the circumstances under which Ka,zia 0. J. d a payment could be escribed as a business expenditure falling within the terms of section 10 (2) (xv), a business expenditure falling within the terms of section In our opinion this is an entirely wrong approach and should not have been permitted by the High Court. The High Court fell into a grave error in omitting first to ascer­ tain what were the facts found in the case stated by the Tribunal. The High Court overlooked that in Afitchell's case the whole discussion started with a quotation from the case stated by the Commissioners. Income-tax Officer was in error in not allowing the deduction of interest. In disallowing this claim the 1950 Income-tax Officer was following the decision of my predecessor in his order dated the 18th March 1942 in Oommimoner 0! Appeal No._ 1-- 1 of.1941-42. v. agency company had surplus money and such money Calcutta Ag••cv  was invested or that there was any need to borrow. Ltd. Thus the need to borrow is not established. There is no doubt that money was borrowed but lmless it can Kania c. J. to prove that the borrowing is for the purpose of the business and the loan was u:sed in the business, the interest cannot be allowed under section 10(2)(iii). Reliance was placed for this contention on Raja Bijoy Singh Dudhuria's case('). The contention was rejected. No evidence, it appears, was led before the Income Tax Tribunal. The Tribunal's conclusions of facts were only as summarized in the earlier part of the judgment. The High OomI missioner of Court was carried away, it seems, by the argument of ncometax, West Bengal the counsel and through error accepted the argument v. as facts. if it had noticed the contention Calcutta Agenoy urged before the Income-tax Officer it would have seen Ltd, at once that the argument was in a measure conflicting with that contention which was based on the foot- Kania a. 1 ing of Rs. 1,80,000 being appeal is therefore allowed with costs here and before the High Court. Agent for appellant : P.A. Mehta. Agent for respondents: Ganpat Rai. Agent for the respondents: Ganpat Rai.\n"
     ]
    }
   ],
   "source": [
    "# Concatenate all the summarized chunks to form the final summary\n",
    "final_summary = \" \".join(summarized_chunks)\n",
    "\n",
    "# Print the final summary\n",
    "\n",
    "print(final_summary)\n"
   ]
  },
  {
   "cell_type": "code",
   "execution_count": 27,
   "metadata": {},
   "outputs": [
    {
     "data": {
      "text/plain": [
       "8340"
      ]
     },
     "execution_count": 27,
     "metadata": {},
     "output_type": "execute_result"
    }
   ],
   "source": [
    "len(final_summary)"
   ]
  },
  {
   "cell_type": "markdown",
   "metadata": {},
   "source": [
    "### Metrics"
   ]
  },
  {
   "cell_type": "code",
   "execution_count": 24,
   "metadata": {},
   "outputs": [
    {
     "name": "stdout",
     "output_type": "stream",
     "text": [
      "{'rouge1': Score(precision=0.033602150537634407, recall=0.3225806451612903, fmeasure=0.06086427267194156), 'rouge2': Score(precision=0.004034969737726967, recall=0.03896103896103896, fmeasure=0.007312614259597806), 'rougeL': Score(precision=0.025537634408602152, recall=0.24516129032258063, fmeasure=0.04625684723067559)}\n"
     ]
    }
   ],
   "source": [
    "\n",
    "from rouge_score import rouge_scorer\n",
    "\n",
    "# Example summaries\n",
    "generated_summary = final_summary\n",
    "reference_summary = reference_summary\n",
    "scorer = rouge_scorer.RougeScorer(['rouge1', 'rouge2', 'rougeL'], use_stemmer=True)\n",
    "scores = scorer.score(reference_summary, generated_summary)\n",
    "\n",
    "print(scores)\n"
   ]
  },
  {
   "cell_type": "code",
   "execution_count": 25,
   "metadata": {},
   "outputs": [
    {
     "name": "stdout",
     "output_type": "stream",
     "text": [
      "rouge1:\n",
      "  Precision: 0.0336\n",
      "  Recall: 0.3226\n",
      "  F-measure: 0.0609\n",
      "\n",
      "rouge2:\n",
      "  Precision: 0.0040\n",
      "  Recall: 0.0390\n",
      "  F-measure: 0.0073\n",
      "\n",
      "rougeL:\n",
      "  Precision: 0.0255\n",
      "  Recall: 0.2452\n",
      "  F-measure: 0.0463\n",
      "\n"
     ]
    }
   ],
   "source": [
    "# Loop through each ROUGE score and print its values\n",
    "for key, score in scores.items():\n",
    "    print(f\"{key}:\")\n",
    "    print(f\"  Precision: {score.precision:.4f}\")\n",
    "    print(f\"  Recall: {score.recall:.4f}\")\n",
    "    print(f\"  F-measure: {score.fmeasure:.4f}\\n\")\n"
   ]
  },
  {
   "cell_type": "code",
   "execution_count": 26,
   "metadata": {},
   "outputs": [
    {
     "name": "stdout",
     "output_type": "stream",
     "text": [
      "BLEU score with smoothing: 0.0010\n",
      "BLEU score (unigrams with smoothing): 0.0428\n",
      "BLEU score (bigrams with smoothing): 0.0068\n",
      "BLEU score (trigrams with smoothing): 0.0001\n",
      "BLEU score (4-grams with smoothing): 0.0001\n"
     ]
    }
   ],
   "source": [
    "import nltk\n",
    "from nltk.translate.bleu_score import sentence_bleu, SmoothingFunction\n",
    "\n",
    "# Sample reference text\n",
    "reference_text = reference_summary\n",
    "\n",
    "# Sample generated text from your model\n",
    "generated_text = final_summary\n",
    "\n",
    "# Tokenize the reference and generated texts\n",
    "reference = [nltk.word_tokenize(reference_text.lower())]  # List of reference sentences\n",
    "generated = nltk.word_tokenize(generated_text.lower())\n",
    "\n",
    "# Use a smoothing function\n",
    "smoothie = SmoothingFunction()\n",
    "\n",
    "# Calculate BLEU score with smoothing for all n-gram orders\n",
    "bleu_score = sentence_bleu(reference, generated, smoothing_function=smoothie.method1)\n",
    "print(f\"BLEU score with smoothing: {bleu_score:.4f}\")\n",
    "\n",
    "# Calculate BLEU score for unigrams, bigrams, trigrams, and 4-grams with smoothing\n",
    "bleu_score_unigrams = sentence_bleu(reference, generated, weights=(1, 0, 0, 0), smoothing_function=smoothie.method1)\n",
    "bleu_score_bigrams = sentence_bleu(reference, generated, weights=(0, 1, 0, 0), smoothing_function=smoothie.method1)\n",
    "bleu_score_trigrams = sentence_bleu(reference, generated, weights=(0, 0, 1, 0), smoothing_function=smoothie.method1)\n",
    "bleu_score_4grams = sentence_bleu(reference, generated, weights=(0, 0, 0, 1), smoothing_function=smoothie.method1)\n",
    "\n",
    "print(f\"BLEU score (unigrams with smoothing): {bleu_score_unigrams:.4f}\")\n",
    "print(f\"BLEU score (bigrams with smoothing): {bleu_score_bigrams:.4f}\")\n",
    "print(f\"BLEU score (trigrams with smoothing): {bleu_score_trigrams:.4f}\")\n",
    "print(f\"BLEU score (4-grams with smoothing): {bleu_score_4grams:.4f}\")\n"
   ]
  },
  {
   "cell_type": "code",
   "execution_count": null,
   "metadata": {},
   "outputs": [],
   "source": []
  }
 ],
 "metadata": {
  "kernelspec": {
   "display_name": "myenv",
   "language": "python",
   "name": "python3"
  },
  "language_info": {
   "codemirror_mode": {
    "name": "ipython",
    "version": 3
   },
   "file_extension": ".py",
   "mimetype": "text/x-python",
   "name": "python",
   "nbconvert_exporter": "python",
   "pygments_lexer": "ipython3",
   "version": "3.8.18"
  }
 },
 "nbformat": 4,
 "nbformat_minor": 2
}
